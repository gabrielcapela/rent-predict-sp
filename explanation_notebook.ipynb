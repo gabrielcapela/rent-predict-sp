{
  "cells": [
    {
      "cell_type": "markdown",
      "metadata": {
        "id": "FB8BaFLiRfWC"
      },
      "source": [
        "---\n",
        "\n",
        "\n",
        "<img width=25% src=\"https://raw.githubusercontent.com/gabrielcapela/credit_risk/main/images/myself.png\" align=right>\n",
        "\n",
        "# **Rent Forecast Project**\n",
        "\n",
        "*by Gabriel Capela*\n",
        "\n",
        "[<img src=\"https://img.shields.io/badge/LinkedIn-0077B5?style=for-the-badge&logo=linkedin&logoColor=white\"/>](https://www.linkedin.com/in/gabrielcapela)\n",
        "[<img src=\"https://img.shields.io/badge/Medium-12100E?style=for-the-badge&logo=medium&logoColor=white\" />](https://medium.com/@gabrielcapela)\n",
        "\n",
        "---\n",
        "\n",
        "This project applies **Machine Learning** techniques to predict the rental value of residential properties in the city of São Paulo, based on characteristics such as location, number of bedrooms, parking spaces, among other relevant attributes. \n",
        "\n",
        "The goal is to develop a **decision-making support tool** that helps tenants and owners identify fair prices that are consistent with the market.\n",
        "\n",
        "To this end, a web interface will be created where the user can enter information about the property and obtain an estimated rental value in return. \n",
        "\n",
        "<p align=\"center\">\n",
        "<img width=70% src=\"\n",
        "https://raw.githubusercontent.com/gabrielcapela/rent-predict-sp/main/images/crisp-dm.jpeg\">\n",
        "</p>\n",
        "\n",
        "The development of the project involves steps such as **understanding the problem, analyzing and preparing the data, building and evaluating predictive models, and finally implementing a web application** that allows the practical use of the solution."
      ]
    },
    {
      "cell_type": "markdown",
      "metadata": {
        "id": "j6m170oTR2hw"
      },
      "source": [
        "# Business Understanding"
      ]
    },
    {
      "cell_type": "markdown",
      "metadata": {},
      "source": [
        "## Problem Contextualization"
      ]
    },
    {
      "cell_type": "markdown",
      "metadata": {},
      "source": [
        "The city of **São Paulo** is home to some of the largest and most dynamic real estate activity in Brazil. With a highly competitive and volatile market, understanding and predicting property rental prices becomes essential for different agents in the sector — from landlords, tenants, investors, to digital rental platforms.\n",
        "\n",
        "Using historical data on properties available for rent in São Paulo during 2019, this project aims to **explore and model the factors that directly influence rental prices**. In addition, it seeks to develop an accessible and functional interface, allowing users to enter characteristics of a property and quickly and conveniently obtain a price estimate, thus becoming an effective tool for decision support in the real estate market.\n",
        "\n",
        "Since the **main objective of this project is to deploy a functional solution**, it was decided to use AutoML tools, which accelerate the predictive modeling process. The YData Profiling library will be used for automated exploratory data analysis, and PyCaret, which allows for rapid testing of different regression models, preprocessing, and selection of the best approach based on performance metrics. This strategy allows for the focus of efforts on delivering a usable end product, with significant productivity gains.\n",
        "\n",
        "For the deployment phase, the project will use **Flask to build a lightweight and flexible web interface**, enabling users to interact with the predictive model in a simple and efficient way. **This application will be hosted on Heroku**, a cloud platform that facilitates easy and scalable deployment of web applications. This setup ensures that the solution is not only technically robust, but also accessible to end users without requiring advanced technical expertise."
      ]
    },
    {
      "cell_type": "markdown",
      "metadata": {},
      "source": [
        "## Source of Data"
      ]
    },
    {
      "cell_type": "markdown",
      "metadata": {},
      "source": [
        "<p align=\"center\">\n",
        "<img width=100% src=\"\n",
        "https://raw.githubusercontent.com/gabrielcapela/rent-predict-sp/main/images/kaggle_data.png\">\n",
        "</p>\n",
        "\n",
        "The data used in this project were obtained from the [Kaggle](https://www.kaggle.com/datasets/argonalyst/sao-paulo-real-estate-sale-rent-april-2019/data) platform and contain detailed information about properties located in the city of São Paulo in 2019. The variables include physical characteristics of the properties (such as number of bedrooms, bathrooms, parking spaces), as well as economic and location variables. The dataset is already presented in a structured and relatively clean format, which allows for a more direct advance to the modeling and implementation phases."
      ]
    },
    {
      "cell_type": "markdown",
      "metadata": {},
      "source": [
        "## Importance of the Problem"
      ]
    },
    {
      "cell_type": "markdown",
      "metadata": {},
      "source": [
        "Predicting rental prices in urban centers like São Paulo is relevant for several reasons:\n",
        "\n",
        "*   Landlords and real estate agencies can better price their properties, avoiding vacancies or outdated prices;\n",
        "*   Tenants can identify neighborhoods with better value for money;\n",
        "*   Online platforms can integrate intelligent price suggestion systems;\n",
        "*   Startups and real estate businesses can use predictive models as part of their solutions.\n",
        "\n",
        "However, there are some important limitations:\n",
        "\n",
        "*   The model does not consider subjective variables such as finishing, perceived security or view;\n",
        "*   The data is from 2019, which may not reflect the current post-pandemic market;\n",
        "*   External factors, such as public policies and urban infrastructure, are not directly considered."
      ]
    },
    {
      "cell_type": "markdown",
      "metadata": {},
      "source": [
        "## Project Objective"
      ]
    },
    {
      "cell_type": "markdown",
      "metadata": {},
      "source": [
        "Although predictive modeling is an essential step, the main focus of this project is the deployment phase: that is, putting the model into production through an application accessible via a web interface.\n",
        "\n",
        "### The goal is to deliver a functional solution, where users can enter characteristics of a property and instantly obtain an estimate of the rental value, simulating a real usage scenario in systems or online platforms."
      ]
    },
    {
      "cell_type": "markdown",
      "metadata": {},
      "source": [
        "## Criteria for Model Evaluation"
      ]
    },
    {
      "cell_type": "markdown",
      "metadata": {},
      "source": [
        "**The model's performance will be assessed based on the R2 metric** (coefficient of determination), which indicates the proportion of the rental price variability that is explained by the model's independent variables. In other words, R2 measures how well the model can reproduce the real values ​​from the available data. The R2 value ranges from 0 to 1, with values ​​closer to 1 indicating a model with greater explanatory power.\n",
        "\n",
        "For this project, **we expect to achieve an R2 greater than 0.7**, meaning that the model performs well, explaining most of the price variability."
      ]
    },
    {
      "cell_type": "markdown",
      "metadata": {
        "id": "j8wV1xtWR7mC"
      },
      "source": [
        "# Data Understanding"
      ]
    },
    {
      "cell_type": "markdown",
      "metadata": {
        "id": "ljIM6SmgUfdq"
      },
      "source": [
        "This step is essential to gain initial insights into the dataset, **identify patterns**, **detect anomalies**, and **assess data quality**.\n",
        "\n",
        "The dataset used can be downloaded from this [page](https://github.com/gabrielcapela/rent-predict-sp/blob/7e157b64910df7c095880ea7d5c59964f9d72a45/data/sao-paulo-properties-april-2019.csv) and includes several quantitative and categorical variables for each apartment, as well as **a numeric variable indicating the rental or sale value**.\n",
        "\n",
        "The complete data analysis will be performed using the YData Profiling package, a tool that generates automatic reports."
      ]
    },
    {
      "cell_type": "markdown",
      "metadata": {
        "id": "AnD9gs0EXSJU"
      },
      "source": [
        "## Load and inspect the dataset"
      ]
    },
    {
      "cell_type": "markdown",
      "metadata": {
        "id": "ytrAsQTBc_RR"
      },
      "source": [
        "First, let's import the necessary packages and the dataset and check its first few lines."
      ]
    },
    {
      "cell_type": "code",
      "execution_count": 1,
      "metadata": {
        "id": "3WMcSZs5dSDq"
      },
      "outputs": [
        {
          "data": {
            "text/html": [
              "\n",
              "            <div>\n",
              "                <ins><a href=\"https://ydata.ai/register\">Upgrade to ydata-sdk</a></ins>\n",
              "                <p>\n",
              "                    Improve your data and profiling with ydata-sdk, featuring data quality scoring, redundancy detection, outlier identification, text validation, and synthetic data generation.\n",
              "                </p>\n",
              "            </div>\n",
              "            "
            ],
            "text/plain": [
              "<IPython.core.display.HTML object>"
            ]
          },
          "metadata": {},
          "output_type": "display_data"
        }
      ],
      "source": [
        "#Importing the necessary packages\n",
        "import pandas as pd\n",
        "import numpy as np\n",
        "import matplotlib.pyplot as plt\n",
        "import seaborn as sns\n",
        "from ydata_profiling import ProfileReport"
      ]
    },
    {
      "cell_type": "code",
      "execution_count": 2,
      "metadata": {
        "colab": {
          "base_uri": "https://localhost:8080/",
          "height": 396
        },
        "id": "0_rK4-G_dsQE",
        "outputId": "9f6949e6-5c47-4da3-a63e-2c255190f1bd"
      },
      "outputs": [
        {
          "data": {
            "text/html": [
              "<div>\n",
              "<style scoped>\n",
              "    .dataframe tbody tr th:only-of-type {\n",
              "        vertical-align: middle;\n",
              "    }\n",
              "\n",
              "    .dataframe tbody tr th {\n",
              "        vertical-align: top;\n",
              "    }\n",
              "\n",
              "    .dataframe thead th {\n",
              "        text-align: right;\n",
              "    }\n",
              "</style>\n",
              "<table border=\"1\" class=\"dataframe\">\n",
              "  <thead>\n",
              "    <tr style=\"text-align: right;\">\n",
              "      <th></th>\n",
              "      <th>Price</th>\n",
              "      <th>Condo</th>\n",
              "      <th>Size</th>\n",
              "      <th>Rooms</th>\n",
              "      <th>Toilets</th>\n",
              "      <th>Suites</th>\n",
              "      <th>Parking</th>\n",
              "      <th>Elevator</th>\n",
              "      <th>Furnished</th>\n",
              "      <th>Swimming Pool</th>\n",
              "      <th>New</th>\n",
              "      <th>District</th>\n",
              "      <th>Negotiation Type</th>\n",
              "      <th>Property Type</th>\n",
              "      <th>Latitude</th>\n",
              "      <th>Longitude</th>\n",
              "    </tr>\n",
              "  </thead>\n",
              "  <tbody>\n",
              "    <tr>\n",
              "      <th>0</th>\n",
              "      <td>930</td>\n",
              "      <td>220</td>\n",
              "      <td>47</td>\n",
              "      <td>2</td>\n",
              "      <td>2</td>\n",
              "      <td>1</td>\n",
              "      <td>1</td>\n",
              "      <td>0</td>\n",
              "      <td>0</td>\n",
              "      <td>0</td>\n",
              "      <td>0</td>\n",
              "      <td>Artur Alvim/São Paulo</td>\n",
              "      <td>rent</td>\n",
              "      <td>apartment</td>\n",
              "      <td>-23.543138</td>\n",
              "      <td>-46.479486</td>\n",
              "    </tr>\n",
              "    <tr>\n",
              "      <th>1</th>\n",
              "      <td>1000</td>\n",
              "      <td>148</td>\n",
              "      <td>45</td>\n",
              "      <td>2</td>\n",
              "      <td>2</td>\n",
              "      <td>1</td>\n",
              "      <td>1</td>\n",
              "      <td>0</td>\n",
              "      <td>0</td>\n",
              "      <td>0</td>\n",
              "      <td>0</td>\n",
              "      <td>Artur Alvim/São Paulo</td>\n",
              "      <td>rent</td>\n",
              "      <td>apartment</td>\n",
              "      <td>-23.550239</td>\n",
              "      <td>-46.480718</td>\n",
              "    </tr>\n",
              "    <tr>\n",
              "      <th>2</th>\n",
              "      <td>1000</td>\n",
              "      <td>100</td>\n",
              "      <td>48</td>\n",
              "      <td>2</td>\n",
              "      <td>2</td>\n",
              "      <td>1</td>\n",
              "      <td>1</td>\n",
              "      <td>0</td>\n",
              "      <td>0</td>\n",
              "      <td>0</td>\n",
              "      <td>0</td>\n",
              "      <td>Artur Alvim/São Paulo</td>\n",
              "      <td>rent</td>\n",
              "      <td>apartment</td>\n",
              "      <td>-23.542818</td>\n",
              "      <td>-46.485665</td>\n",
              "    </tr>\n",
              "    <tr>\n",
              "      <th>3</th>\n",
              "      <td>1000</td>\n",
              "      <td>200</td>\n",
              "      <td>48</td>\n",
              "      <td>2</td>\n",
              "      <td>2</td>\n",
              "      <td>1</td>\n",
              "      <td>1</td>\n",
              "      <td>0</td>\n",
              "      <td>0</td>\n",
              "      <td>0</td>\n",
              "      <td>0</td>\n",
              "      <td>Artur Alvim/São Paulo</td>\n",
              "      <td>rent</td>\n",
              "      <td>apartment</td>\n",
              "      <td>-23.547171</td>\n",
              "      <td>-46.483014</td>\n",
              "    </tr>\n",
              "    <tr>\n",
              "      <th>4</th>\n",
              "      <td>1300</td>\n",
              "      <td>410</td>\n",
              "      <td>55</td>\n",
              "      <td>2</td>\n",
              "      <td>2</td>\n",
              "      <td>1</td>\n",
              "      <td>1</td>\n",
              "      <td>1</td>\n",
              "      <td>0</td>\n",
              "      <td>0</td>\n",
              "      <td>0</td>\n",
              "      <td>Artur Alvim/São Paulo</td>\n",
              "      <td>rent</td>\n",
              "      <td>apartment</td>\n",
              "      <td>-23.525025</td>\n",
              "      <td>-46.482436</td>\n",
              "    </tr>\n",
              "  </tbody>\n",
              "</table>\n",
              "</div>"
            ],
            "text/plain": [
              "   Price  Condo  Size  Rooms  Toilets  Suites  Parking  Elevator  Furnished  \\\n",
              "0    930    220    47      2        2       1        1         0          0   \n",
              "1   1000    148    45      2        2       1        1         0          0   \n",
              "2   1000    100    48      2        2       1        1         0          0   \n",
              "3   1000    200    48      2        2       1        1         0          0   \n",
              "4   1300    410    55      2        2       1        1         1          0   \n",
              "\n",
              "   Swimming Pool  New               District Negotiation Type Property Type  \\\n",
              "0              0    0  Artur Alvim/São Paulo             rent     apartment   \n",
              "1              0    0  Artur Alvim/São Paulo             rent     apartment   \n",
              "2              0    0  Artur Alvim/São Paulo             rent     apartment   \n",
              "3              0    0  Artur Alvim/São Paulo             rent     apartment   \n",
              "4              0    0  Artur Alvim/São Paulo             rent     apartment   \n",
              "\n",
              "    Latitude  Longitude  \n",
              "0 -23.543138 -46.479486  \n",
              "1 -23.550239 -46.480718  \n",
              "2 -23.542818 -46.485665  \n",
              "3 -23.547171 -46.483014  \n",
              "4 -23.525025 -46.482436  "
            ]
          },
          "execution_count": 2,
          "metadata": {},
          "output_type": "execute_result"
        }
      ],
      "source": [
        "#Importing the dataset\n",
        "df = pd.read_csv('https://github.com/gabrielcapela/rent-predict-sp/blob/7e157b64910df7c095880ea7d5c59964f9d72a45/data/sao-paulo-properties-april-2019.csv?raw=true')\n",
        "pd.set_option('display.max_columns', None)  #Show all the columns\n",
        "#Showing the first lines\n",
        "df.head()"
      ]
    },
    {
      "cell_type": "code",
      "execution_count": 3,
      "metadata": {},
      "outputs": [
        {
          "name": "stdout",
          "output_type": "stream",
          "text": [
            "The data set has 13640 rows and 16 columns.\n"
          ]
        }
      ],
      "source": [
        "#Showing the shape of dataset\n",
        "print(f\"The data set has {df.shape[0]} rows and {df.shape[1]} columns.\")"
      ]
    },
    {
      "cell_type": "markdown",
      "metadata": {
        "id": "KaGZHlzjgVD8"
      },
      "source": [
        "Below is the meaning of each variable:\n",
        "\n",
        "| **Variable**       | **Description**                                                                 |\n",
        "|--------------------|---------------------------------------------------------------------------------|\n",
        "| `Price`            | Monthly rent price (in Brazilian Reais - R$).                                   |\n",
        "| `Condo`            | Monthly condominium fee (in R$).                                                |\n",
        "| `Size`             | Property size in square meters (m²).                                            |\n",
        "| `Rooms`            | Total number of rooms (usually includes living room and bedrooms).              |\n",
        "| `Toilets`          | Total number of bathrooms/toilets.                                              |\n",
        "| `Suites`           | Number of ensuite bathrooms (bathrooms directly connected to a bedroom).        |\n",
        "| `Parking`          | Number of available parking spots.                                              |\n",
        "| `Elevator`         | Indicates whether the building has an elevator (`1` = Yes, `0` = No).           |\n",
        "| `Furnished`        | Indicates whether the property is furnished (`1` = Yes, `0` = No).              |\n",
        "| `Swimming Pool`    | Indicates whether the building has a swimming pool (`1` = Yes, `0` = No).       |\n",
        "| `New`              | Indicates whether the property is new (`1` = Yes, `0` = No).                    |\n",
        "| `District`         | Neighborhood and city (e.g., `Belém/São Paulo`).                                |\n",
        "| `Negotiation Type` | Type of transaction (e.g., `rent`).                                             |\n",
        "| `Property Type`    | Type of property (e.g., `apartment`).                                           |\n",
        "| `Latitude`         | Geographic coordinate (latitude) of the property.                               |\n",
        "| `Longitude`        | Geographic coordinate (longitude) of the property.                              |"
      ]
    },
    {
      "cell_type": "markdown",
      "metadata": {},
      "source": [
        "First we notice that there is a column with the type of negotiation, this study will be limited to rent, data on sales will be excluded:"
      ]
    },
    {
      "cell_type": "code",
      "execution_count": 4,
      "metadata": {},
      "outputs": [
        {
          "name": "stdout",
          "output_type": "stream",
          "text": [
            "Negotiation Type\n",
            "rent    7228\n",
            "sale    6412\n",
            "Name: count, dtype: int64\n",
            "The data set has 7228 rows and 16 columns.\n"
          ]
        }
      ],
      "source": [
        "# Show the unique values of the 'Negotiation Type' column\n",
        "print(df['Negotiation Type'].value_counts())\n",
        "# Deletin the 'sale' entrys from the 'Negotiation Type' column\n",
        "df = df[df['Negotiation Type'] != 'sale']\n",
        "#Showing the shape of dataset\n",
        "print(f\"The data set has {df.shape[0]} rows and {df.shape[1]} columns.\")"
      ]
    },
    {
      "cell_type": "markdown",
      "metadata": {},
      "source": [
        "## Ydata Profiling"
      ]
    },
    {
      "cell_type": "markdown",
      "metadata": {},
      "source": [
        "YData Profiling is a powerful open-source Python tool that automates the process of exploratory data analysis (EDA). With just a single line of code, it generates an interactive and comprehensive HTML report that summarizes key insights about the dataset."
      ]
    },
    {
      "cell_type": "code",
      "execution_count": 5,
      "metadata": {},
      "outputs": [
        {
          "data": {
            "application/vnd.jupyter.widget-view+json": {
              "model_id": "108eaf1af5a44151ab7da076f85907e2",
              "version_major": 2,
              "version_minor": 0
            },
            "text/plain": [
              "Summarize dataset:   0%|          | 0/5 [00:00<?, ?it/s]"
            ]
          },
          "metadata": {},
          "output_type": "display_data"
        },
        {
          "name": "stderr",
          "output_type": "stream",
          "text": [
            "100%|██████████| 16/16 [00:01<00:00, 15.79it/s]\n"
          ]
        },
        {
          "data": {
            "application/vnd.jupyter.widget-view+json": {
              "model_id": "a7626f46b13e4f7481ef6e705fbcd140",
              "version_major": 2,
              "version_minor": 0
            },
            "text/plain": [
              "Generate report structure:   0%|          | 0/1 [00:00<?, ?it/s]"
            ]
          },
          "metadata": {},
          "output_type": "display_data"
        },
        {
          "data": {
            "application/vnd.jupyter.widget-view+json": {
              "model_id": "7e23a3b763b34ebab6885047558850b8",
              "version_major": 2,
              "version_minor": 0
            },
            "text/plain": [
              "Render HTML:   0%|          | 0/1 [00:00<?, ?it/s]"
            ]
          },
          "metadata": {},
          "output_type": "display_data"
        },
        {
          "data": {
            "application/vnd.jupyter.widget-view+json": {
              "model_id": "eda158cfbe064542820d1faa037d2dfd",
              "version_major": 2,
              "version_minor": 0
            },
            "text/plain": [
              "Export report to file:   0%|          | 0/1 [00:00<?, ?it/s]"
            ]
          },
          "metadata": {},
          "output_type": "display_data"
        }
      ],
      "source": [
        "profile = ProfileReport(df, title=\"report\", explorative=True)\n",
        "#profile.to_notebook_iframe()\n",
        "profile.to_file(\"report.html\")"
      ]
    },
    {
      "cell_type": "markdown",
      "metadata": {
        "id": "sgoaPTqWdP2P"
      },
      "source": [
        "Click [here](https://gabrielcapela.github.io/rent-predict-sp/report.html) to see the full report!"
      ]
    },
    {
      "cell_type": "markdown",
      "metadata": {
        "id": "_uHSP9cCiRGV"
      },
      "source": [
        "### Some observations can already be made:\n",
        "\n",
        "* 🟢 There are no missing values;\n",
        "* 🟢 There are values ​​equal to zero, but it is consistent with the meaning of the data;\n",
        "* 🔴 The columns 'Negotiation Type' and 'Property Type' can be excluded, as they have a single value;\n",
        "* 🟢 There are many boolean variables (has or does not have), which will facilitate processing;\n",
        "* 🟡 You can make a visualization with the columns 'Longitude' and 'Latitude'; e\n",
        "* 🔴 The column 'District' must go through some kind of encoding for processing.\n",
        "* 🔴 The 'Condo' column will be aggregated with the 'Price' column. The model will return the total amount a potential tenant will pay per month."
      ]
    },
    {
      "cell_type": "markdown",
      "metadata": {},
      "source": [
        "## Ploting a Map"
      ]
    },
    {
      "cell_type": "markdown",
      "metadata": {},
      "source": [
        "Interactive visualization of the geographic locations of properties available for rent in the city of São Paulo. **Each point on the map represents a property**, with the color varying according to the rental value — higher values ​​are represented by more intense colors. A **logarithmic transformation** was applied to the rental values ​​to improve the sensitivity of the color scale, since most prices are concentrated in lower ranges."
      ]
    },
    {
      "cell_type": "code",
      "execution_count": 32,
      "metadata": {},
      "outputs": [],
      "source": [
        "import folium\n",
        "import branca.colormap as cm\n",
        "import numpy as np\n",
        "\n",
        "df_map = df[['Latitude', 'Longitude', 'Price']].copy()\n",
        "df_map ['Price_log'] = np.log1p(df_map['Price']) \n",
        "\n",
        "# Map centered in SP\n",
        "mapa_sp = folium.Map(location=[-23.55052, -46.63331], zoom_start=12)\n",
        "\n",
        "# Colormap adjusted to log scale\n",
        "colormap = cm.linear.YlOrRd_09.scale(df_map['Price_log'].min(), df_map['Price_log'].max())\n",
        "colormap.caption = 'Rent Price (log scale)'\n",
        "\n",
        "# Adding points to the map\n",
        "for _, row in df_map.iterrows():\n",
        "    folium.CircleMarker(\n",
        "        location=[row['Latitude'], row['Longitude']],\n",
        "        radius=3,\n",
        "        color=colormap(row['Price_log']),\n",
        "        fill=True,\n",
        "        fill_color=colormap(row['Price_log']),\n",
        "        fill_opacity=0.7\n",
        "    ).add_to(mapa_sp)\n",
        "\n",
        "colormap.add_to(mapa_sp)\n",
        "\n",
        "\n",
        "mapa_sp.save(\"templates/map.html\")"
      ]
    },
    {
      "cell_type": "markdown",
      "metadata": {},
      "source": [
        "[🔗 Click here to see the map.](https://gabrielcapela.github.io/rent-predict-sp/map.html)\n"
      ]
    },
    {
      "cell_type": "markdown",
      "metadata": {},
      "source": [
        "\n",
        "\n",
        "#### TO DO LIST 🚮\n",
        "\n",
        "* 🔴 Delete columns 'Longitude', 'Latitude', 'Negotiation Type' and 'Property Type'.\n",
        "* 🔴 Encode the column 'District'."
      ]
    },
    {
      "cell_type": "markdown",
      "metadata": {
        "id": "i52evR5HSAag"
      },
      "source": [
        "# Data Preparation"
      ]
    },
    {
      "cell_type": "markdown",
      "metadata": {
        "id": "3wwFwqnv7AS2"
      },
      "source": [
        "In this step, we will clean and modify the data based on the insights gathered from the previous analysis. "
      ]
    },
    {
      "cell_type": "markdown",
      "metadata": {
        "id": "LEtt6htp5zfj"
      },
      "source": [
        "### Data Cleaning"
      ]
    },
    {
      "cell_type": "markdown",
      "metadata": {},
      "source": [
        "First, let's delete the columns and rows marked in the previous step:"
      ]
    },
    {
      "cell_type": "code",
      "execution_count": 7,
      "metadata": {},
      "outputs": [
        {
          "name": "stdout",
          "output_type": "stream",
          "text": [
            "Data shape after dropping columns: (7228, 12)\n"
          ]
        }
      ],
      "source": [
        "# Making a copy\n",
        "df_clean = df.copy()\n",
        "# List of columns to drop\n",
        "columns_to_drop = ['Longitude', 'Latitude', 'Negotiation Type', 'Property Type']\n",
        "\n",
        "# Drop the columns from the DataFrame\n",
        "df_clean = df_clean.drop(columns=columns_to_drop, errors='ignore')\n",
        "\n",
        "print(f\"Data shape after dropping columns: {df_clean.shape}\")"
      ]
    },
    {
      "cell_type": "markdown",
      "metadata": {},
      "source": [
        "### Feature Engineering"
      ]
    },
    {
      "cell_type": "markdown",
      "metadata": {},
      "source": [
        "The 'Price' column will be added to the 'Condo' column. This resulting column will become the target variable of the model."
      ]
    },
    {
      "cell_type": "code",
      "execution_count": 8,
      "metadata": {},
      "outputs": [],
      "source": [
        "df_clean['total_price'] = df_clean['Price'] + df_clean['Condo']\n",
        "df_clean = df_clean.drop(columns=['Price', 'Condo'])"
      ]
    },
    {
      "cell_type": "markdown",
      "metadata": {
        "id": "gFzUQYJh6DZG"
      },
      "source": [
        "### Division of the dataset"
      ]
    },
    {
      "cell_type": "code",
      "execution_count": 9,
      "metadata": {
        "colab": {
          "base_uri": "https://localhost:8080/"
        },
        "id": "POOzcoKbWg_i",
        "outputId": "6e09c5c7-50a4-4e82-af41-16352346010a"
      },
      "outputs": [
        {
          "name": "stdout",
          "output_type": "stream",
          "text": [
            "Training set size: (5782, 11)\n",
            "Testing set size: (1446, 11)\n"
          ]
        }
      ],
      "source": [
        "#Importing the package needed for split\n",
        "from sklearn.model_selection import train_test_split\n",
        "\n",
        "#Dividing the dataset into train e test\n",
        "df_train, df_test = train_test_split(df_clean, test_size=0.2, random_state=42)\n",
        "\n",
        "#Checking the sizes of the divisions\n",
        "print(f\"Training set size: {df_train.shape}\")\n",
        "print(f\"Testing set size: {df_test.shape}\")\n"
      ]
    },
    {
      "cell_type": "markdown",
      "metadata": {},
      "source": [
        "# Modeling"
      ]
    },
    {
      "cell_type": "markdown",
      "metadata": {},
      "source": [
        "## Pycaret"
      ]
    },
    {
      "cell_type": "markdown",
      "metadata": {},
      "source": [
        "PyCaret is a **Python AutoML library** that makes it easy to build machine learning models with just a few lines of code. It automates tasks like preprocessing, comparison, and model tuning, making it ideal for fast, efficient projects."
      ]
    },
    {
      "cell_type": "code",
      "execution_count": 10,
      "metadata": {},
      "outputs": [],
      "source": [
        "# Importing the necessary packages\n",
        "from sklearn.utils._testing import ignore_warnings # or other utilities\n",
        "\n",
        "from pycaret.regression import setup, compare_models, models, create_model, predict_model\n",
        "from pycaret.regression import tune_model, plot_model, evaluate_model, finalize_model\n",
        "from pycaret.regression import save_model, load_model"
      ]
    },
    {
      "cell_type": "markdown",
      "metadata": {},
      "source": [
        "### Defining the Setup"
      ]
    },
    {
      "cell_type": "code",
      "execution_count": 11,
      "metadata": {},
      "outputs": [
        {
          "data": {
            "text/html": [
              "<style type=\"text/css\">\n",
              "#T_0948a_row9_col1 {\n",
              "  background-color: lightgreen;\n",
              "}\n",
              "</style>\n",
              "<table id=\"T_0948a\">\n",
              "  <thead>\n",
              "    <tr>\n",
              "      <th class=\"blank level0\" >&nbsp;</th>\n",
              "      <th id=\"T_0948a_level0_col0\" class=\"col_heading level0 col0\" >Description</th>\n",
              "      <th id=\"T_0948a_level0_col1\" class=\"col_heading level0 col1\" >Value</th>\n",
              "    </tr>\n",
              "  </thead>\n",
              "  <tbody>\n",
              "    <tr>\n",
              "      <th id=\"T_0948a_level0_row0\" class=\"row_heading level0 row0\" >0</th>\n",
              "      <td id=\"T_0948a_row0_col0\" class=\"data row0 col0\" >Session id</td>\n",
              "      <td id=\"T_0948a_row0_col1\" class=\"data row0 col1\" >5663</td>\n",
              "    </tr>\n",
              "    <tr>\n",
              "      <th id=\"T_0948a_level0_row1\" class=\"row_heading level0 row1\" >1</th>\n",
              "      <td id=\"T_0948a_row1_col0\" class=\"data row1 col0\" >Target</td>\n",
              "      <td id=\"T_0948a_row1_col1\" class=\"data row1 col1\" >total_price</td>\n",
              "    </tr>\n",
              "    <tr>\n",
              "      <th id=\"T_0948a_level0_row2\" class=\"row_heading level0 row2\" >2</th>\n",
              "      <td id=\"T_0948a_row2_col0\" class=\"data row2 col0\" >Target type</td>\n",
              "      <td id=\"T_0948a_row2_col1\" class=\"data row2 col1\" >Regression</td>\n",
              "    </tr>\n",
              "    <tr>\n",
              "      <th id=\"T_0948a_level0_row3\" class=\"row_heading level0 row3\" >3</th>\n",
              "      <td id=\"T_0948a_row3_col0\" class=\"data row3 col0\" >Original data shape</td>\n",
              "      <td id=\"T_0948a_row3_col1\" class=\"data row3 col1\" >(5782, 11)</td>\n",
              "    </tr>\n",
              "    <tr>\n",
              "      <th id=\"T_0948a_level0_row4\" class=\"row_heading level0 row4\" >4</th>\n",
              "      <td id=\"T_0948a_row4_col0\" class=\"data row4 col0\" >Transformed data shape</td>\n",
              "      <td id=\"T_0948a_row4_col1\" class=\"data row4 col1\" >(5782, 11)</td>\n",
              "    </tr>\n",
              "    <tr>\n",
              "      <th id=\"T_0948a_level0_row5\" class=\"row_heading level0 row5\" >5</th>\n",
              "      <td id=\"T_0948a_row5_col0\" class=\"data row5 col0\" >Transformed train set shape</td>\n",
              "      <td id=\"T_0948a_row5_col1\" class=\"data row5 col1\" >(4047, 11)</td>\n",
              "    </tr>\n",
              "    <tr>\n",
              "      <th id=\"T_0948a_level0_row6\" class=\"row_heading level0 row6\" >6</th>\n",
              "      <td id=\"T_0948a_row6_col0\" class=\"data row6 col0\" >Transformed test set shape</td>\n",
              "      <td id=\"T_0948a_row6_col1\" class=\"data row6 col1\" >(1735, 11)</td>\n",
              "    </tr>\n",
              "    <tr>\n",
              "      <th id=\"T_0948a_level0_row7\" class=\"row_heading level0 row7\" >7</th>\n",
              "      <td id=\"T_0948a_row7_col0\" class=\"data row7 col0\" >Numeric features</td>\n",
              "      <td id=\"T_0948a_row7_col1\" class=\"data row7 col1\" >9</td>\n",
              "    </tr>\n",
              "    <tr>\n",
              "      <th id=\"T_0948a_level0_row8\" class=\"row_heading level0 row8\" >8</th>\n",
              "      <td id=\"T_0948a_row8_col0\" class=\"data row8 col0\" >Categorical features</td>\n",
              "      <td id=\"T_0948a_row8_col1\" class=\"data row8 col1\" >1</td>\n",
              "    </tr>\n",
              "    <tr>\n",
              "      <th id=\"T_0948a_level0_row9\" class=\"row_heading level0 row9\" >9</th>\n",
              "      <td id=\"T_0948a_row9_col0\" class=\"data row9 col0\" >Preprocess</td>\n",
              "      <td id=\"T_0948a_row9_col1\" class=\"data row9 col1\" >True</td>\n",
              "    </tr>\n",
              "    <tr>\n",
              "      <th id=\"T_0948a_level0_row10\" class=\"row_heading level0 row10\" >10</th>\n",
              "      <td id=\"T_0948a_row10_col0\" class=\"data row10 col0\" >Imputation type</td>\n",
              "      <td id=\"T_0948a_row10_col1\" class=\"data row10 col1\" >simple</td>\n",
              "    </tr>\n",
              "    <tr>\n",
              "      <th id=\"T_0948a_level0_row11\" class=\"row_heading level0 row11\" >11</th>\n",
              "      <td id=\"T_0948a_row11_col0\" class=\"data row11 col0\" >Numeric imputation</td>\n",
              "      <td id=\"T_0948a_row11_col1\" class=\"data row11 col1\" >mean</td>\n",
              "    </tr>\n",
              "    <tr>\n",
              "      <th id=\"T_0948a_level0_row12\" class=\"row_heading level0 row12\" >12</th>\n",
              "      <td id=\"T_0948a_row12_col0\" class=\"data row12 col0\" >Categorical imputation</td>\n",
              "      <td id=\"T_0948a_row12_col1\" class=\"data row12 col1\" >mode</td>\n",
              "    </tr>\n",
              "    <tr>\n",
              "      <th id=\"T_0948a_level0_row13\" class=\"row_heading level0 row13\" >13</th>\n",
              "      <td id=\"T_0948a_row13_col0\" class=\"data row13 col0\" >Maximum one-hot encoding</td>\n",
              "      <td id=\"T_0948a_row13_col1\" class=\"data row13 col1\" >25</td>\n",
              "    </tr>\n",
              "    <tr>\n",
              "      <th id=\"T_0948a_level0_row14\" class=\"row_heading level0 row14\" >14</th>\n",
              "      <td id=\"T_0948a_row14_col0\" class=\"data row14 col0\" >Encoding method</td>\n",
              "      <td id=\"T_0948a_row14_col1\" class=\"data row14 col1\" >None</td>\n",
              "    </tr>\n",
              "    <tr>\n",
              "      <th id=\"T_0948a_level0_row15\" class=\"row_heading level0 row15\" >15</th>\n",
              "      <td id=\"T_0948a_row15_col0\" class=\"data row15 col0\" >Fold Generator</td>\n",
              "      <td id=\"T_0948a_row15_col1\" class=\"data row15 col1\" >KFold</td>\n",
              "    </tr>\n",
              "    <tr>\n",
              "      <th id=\"T_0948a_level0_row16\" class=\"row_heading level0 row16\" >16</th>\n",
              "      <td id=\"T_0948a_row16_col0\" class=\"data row16 col0\" >Fold Number</td>\n",
              "      <td id=\"T_0948a_row16_col1\" class=\"data row16 col1\" >10</td>\n",
              "    </tr>\n",
              "    <tr>\n",
              "      <th id=\"T_0948a_level0_row17\" class=\"row_heading level0 row17\" >17</th>\n",
              "      <td id=\"T_0948a_row17_col0\" class=\"data row17 col0\" >CPU Jobs</td>\n",
              "      <td id=\"T_0948a_row17_col1\" class=\"data row17 col1\" >-1</td>\n",
              "    </tr>\n",
              "    <tr>\n",
              "      <th id=\"T_0948a_level0_row18\" class=\"row_heading level0 row18\" >18</th>\n",
              "      <td id=\"T_0948a_row18_col0\" class=\"data row18 col0\" >Use GPU</td>\n",
              "      <td id=\"T_0948a_row18_col1\" class=\"data row18 col1\" >False</td>\n",
              "    </tr>\n",
              "    <tr>\n",
              "      <th id=\"T_0948a_level0_row19\" class=\"row_heading level0 row19\" >19</th>\n",
              "      <td id=\"T_0948a_row19_col0\" class=\"data row19 col0\" >Log Experiment</td>\n",
              "      <td id=\"T_0948a_row19_col1\" class=\"data row19 col1\" >False</td>\n",
              "    </tr>\n",
              "    <tr>\n",
              "      <th id=\"T_0948a_level0_row20\" class=\"row_heading level0 row20\" >20</th>\n",
              "      <td id=\"T_0948a_row20_col0\" class=\"data row20 col0\" >Experiment Name</td>\n",
              "      <td id=\"T_0948a_row20_col1\" class=\"data row20 col1\" >reg-default-name</td>\n",
              "    </tr>\n",
              "    <tr>\n",
              "      <th id=\"T_0948a_level0_row21\" class=\"row_heading level0 row21\" >21</th>\n",
              "      <td id=\"T_0948a_row21_col0\" class=\"data row21 col0\" >USI</td>\n",
              "      <td id=\"T_0948a_row21_col1\" class=\"data row21 col1\" >38fb</td>\n",
              "    </tr>\n",
              "  </tbody>\n",
              "</table>\n"
            ],
            "text/plain": [
              "<pandas.io.formats.style.Styler at 0x12f8a1e70>"
            ]
          },
          "metadata": {},
          "output_type": "display_data"
        }
      ],
      "source": [
        "# Creating the PyCaret setup\n",
        "reg = setup(data=df_train, target='total_price')"
      ]
    },
    {
      "cell_type": "markdown",
      "metadata": {},
      "source": [
        "### Creating the pipeline"
      ]
    },
    {
      "cell_type": "code",
      "execution_count": 12,
      "metadata": {},
      "outputs": [
        {
          "data": {
            "text/html": [
              "<style type=\"text/css\">\n",
              "#T_1162a_row9_col1, #T_1162a_row15_col1 {\n",
              "  background-color: lightgreen;\n",
              "}\n",
              "</style>\n",
              "<table id=\"T_1162a\">\n",
              "  <thead>\n",
              "    <tr>\n",
              "      <th class=\"blank level0\" >&nbsp;</th>\n",
              "      <th id=\"T_1162a_level0_col0\" class=\"col_heading level0 col0\" >Description</th>\n",
              "      <th id=\"T_1162a_level0_col1\" class=\"col_heading level0 col1\" >Value</th>\n",
              "    </tr>\n",
              "  </thead>\n",
              "  <tbody>\n",
              "    <tr>\n",
              "      <th id=\"T_1162a_level0_row0\" class=\"row_heading level0 row0\" >0</th>\n",
              "      <td id=\"T_1162a_row0_col0\" class=\"data row0 col0\" >Session id</td>\n",
              "      <td id=\"T_1162a_row0_col1\" class=\"data row0 col1\" >2025</td>\n",
              "    </tr>\n",
              "    <tr>\n",
              "      <th id=\"T_1162a_level0_row1\" class=\"row_heading level0 row1\" >1</th>\n",
              "      <td id=\"T_1162a_row1_col0\" class=\"data row1 col0\" >Target</td>\n",
              "      <td id=\"T_1162a_row1_col1\" class=\"data row1 col1\" >total_price</td>\n",
              "    </tr>\n",
              "    <tr>\n",
              "      <th id=\"T_1162a_level0_row2\" class=\"row_heading level0 row2\" >2</th>\n",
              "      <td id=\"T_1162a_row2_col0\" class=\"data row2 col0\" >Target type</td>\n",
              "      <td id=\"T_1162a_row2_col1\" class=\"data row2 col1\" >Regression</td>\n",
              "    </tr>\n",
              "    <tr>\n",
              "      <th id=\"T_1162a_level0_row3\" class=\"row_heading level0 row3\" >3</th>\n",
              "      <td id=\"T_1162a_row3_col0\" class=\"data row3 col0\" >Original data shape</td>\n",
              "      <td id=\"T_1162a_row3_col1\" class=\"data row3 col1\" >(5782, 11)</td>\n",
              "    </tr>\n",
              "    <tr>\n",
              "      <th id=\"T_1162a_level0_row4\" class=\"row_heading level0 row4\" >4</th>\n",
              "      <td id=\"T_1162a_row4_col0\" class=\"data row4 col0\" >Transformed data shape</td>\n",
              "      <td id=\"T_1162a_row4_col1\" class=\"data row4 col1\" >(5782, 11)</td>\n",
              "    </tr>\n",
              "    <tr>\n",
              "      <th id=\"T_1162a_level0_row5\" class=\"row_heading level0 row5\" >5</th>\n",
              "      <td id=\"T_1162a_row5_col0\" class=\"data row5 col0\" >Transformed train set shape</td>\n",
              "      <td id=\"T_1162a_row5_col1\" class=\"data row5 col1\" >(4047, 11)</td>\n",
              "    </tr>\n",
              "    <tr>\n",
              "      <th id=\"T_1162a_level0_row6\" class=\"row_heading level0 row6\" >6</th>\n",
              "      <td id=\"T_1162a_row6_col0\" class=\"data row6 col0\" >Transformed test set shape</td>\n",
              "      <td id=\"T_1162a_row6_col1\" class=\"data row6 col1\" >(1735, 11)</td>\n",
              "    </tr>\n",
              "    <tr>\n",
              "      <th id=\"T_1162a_level0_row7\" class=\"row_heading level0 row7\" >7</th>\n",
              "      <td id=\"T_1162a_row7_col0\" class=\"data row7 col0\" >Numeric features</td>\n",
              "      <td id=\"T_1162a_row7_col1\" class=\"data row7 col1\" >9</td>\n",
              "    </tr>\n",
              "    <tr>\n",
              "      <th id=\"T_1162a_level0_row8\" class=\"row_heading level0 row8\" >8</th>\n",
              "      <td id=\"T_1162a_row8_col0\" class=\"data row8 col0\" >Categorical features</td>\n",
              "      <td id=\"T_1162a_row8_col1\" class=\"data row8 col1\" >1</td>\n",
              "    </tr>\n",
              "    <tr>\n",
              "      <th id=\"T_1162a_level0_row9\" class=\"row_heading level0 row9\" >9</th>\n",
              "      <td id=\"T_1162a_row9_col0\" class=\"data row9 col0\" >Preprocess</td>\n",
              "      <td id=\"T_1162a_row9_col1\" class=\"data row9 col1\" >True</td>\n",
              "    </tr>\n",
              "    <tr>\n",
              "      <th id=\"T_1162a_level0_row10\" class=\"row_heading level0 row10\" >10</th>\n",
              "      <td id=\"T_1162a_row10_col0\" class=\"data row10 col0\" >Imputation type</td>\n",
              "      <td id=\"T_1162a_row10_col1\" class=\"data row10 col1\" >simple</td>\n",
              "    </tr>\n",
              "    <tr>\n",
              "      <th id=\"T_1162a_level0_row11\" class=\"row_heading level0 row11\" >11</th>\n",
              "      <td id=\"T_1162a_row11_col0\" class=\"data row11 col0\" >Numeric imputation</td>\n",
              "      <td id=\"T_1162a_row11_col1\" class=\"data row11 col1\" >mean</td>\n",
              "    </tr>\n",
              "    <tr>\n",
              "      <th id=\"T_1162a_level0_row12\" class=\"row_heading level0 row12\" >12</th>\n",
              "      <td id=\"T_1162a_row12_col0\" class=\"data row12 col0\" >Categorical imputation</td>\n",
              "      <td id=\"T_1162a_row12_col1\" class=\"data row12 col1\" >mode</td>\n",
              "    </tr>\n",
              "    <tr>\n",
              "      <th id=\"T_1162a_level0_row13\" class=\"row_heading level0 row13\" >13</th>\n",
              "      <td id=\"T_1162a_row13_col0\" class=\"data row13 col0\" >Maximum one-hot encoding</td>\n",
              "      <td id=\"T_1162a_row13_col1\" class=\"data row13 col1\" >25</td>\n",
              "    </tr>\n",
              "    <tr>\n",
              "      <th id=\"T_1162a_level0_row14\" class=\"row_heading level0 row14\" >14</th>\n",
              "      <td id=\"T_1162a_row14_col0\" class=\"data row14 col0\" >Encoding method</td>\n",
              "      <td id=\"T_1162a_row14_col1\" class=\"data row14 col1\" >None</td>\n",
              "    </tr>\n",
              "    <tr>\n",
              "      <th id=\"T_1162a_level0_row15\" class=\"row_heading level0 row15\" >15</th>\n",
              "      <td id=\"T_1162a_row15_col0\" class=\"data row15 col0\" >Normalize</td>\n",
              "      <td id=\"T_1162a_row15_col1\" class=\"data row15 col1\" >True</td>\n",
              "    </tr>\n",
              "    <tr>\n",
              "      <th id=\"T_1162a_level0_row16\" class=\"row_heading level0 row16\" >16</th>\n",
              "      <td id=\"T_1162a_row16_col0\" class=\"data row16 col0\" >Normalize method</td>\n",
              "      <td id=\"T_1162a_row16_col1\" class=\"data row16 col1\" >zscore</td>\n",
              "    </tr>\n",
              "    <tr>\n",
              "      <th id=\"T_1162a_level0_row17\" class=\"row_heading level0 row17\" >17</th>\n",
              "      <td id=\"T_1162a_row17_col0\" class=\"data row17 col0\" >Fold Generator</td>\n",
              "      <td id=\"T_1162a_row17_col1\" class=\"data row17 col1\" >KFold</td>\n",
              "    </tr>\n",
              "    <tr>\n",
              "      <th id=\"T_1162a_level0_row18\" class=\"row_heading level0 row18\" >18</th>\n",
              "      <td id=\"T_1162a_row18_col0\" class=\"data row18 col0\" >Fold Number</td>\n",
              "      <td id=\"T_1162a_row18_col1\" class=\"data row18 col1\" >10</td>\n",
              "    </tr>\n",
              "    <tr>\n",
              "      <th id=\"T_1162a_level0_row19\" class=\"row_heading level0 row19\" >19</th>\n",
              "      <td id=\"T_1162a_row19_col0\" class=\"data row19 col0\" >CPU Jobs</td>\n",
              "      <td id=\"T_1162a_row19_col1\" class=\"data row19 col1\" >-1</td>\n",
              "    </tr>\n",
              "    <tr>\n",
              "      <th id=\"T_1162a_level0_row20\" class=\"row_heading level0 row20\" >20</th>\n",
              "      <td id=\"T_1162a_row20_col0\" class=\"data row20 col0\" >Use GPU</td>\n",
              "      <td id=\"T_1162a_row20_col1\" class=\"data row20 col1\" >False</td>\n",
              "    </tr>\n",
              "    <tr>\n",
              "      <th id=\"T_1162a_level0_row21\" class=\"row_heading level0 row21\" >21</th>\n",
              "      <td id=\"T_1162a_row21_col0\" class=\"data row21 col0\" >Log Experiment</td>\n",
              "      <td id=\"T_1162a_row21_col1\" class=\"data row21 col1\" >False</td>\n",
              "    </tr>\n",
              "    <tr>\n",
              "      <th id=\"T_1162a_level0_row22\" class=\"row_heading level0 row22\" >22</th>\n",
              "      <td id=\"T_1162a_row22_col0\" class=\"data row22 col0\" >Experiment Name</td>\n",
              "      <td id=\"T_1162a_row22_col1\" class=\"data row22 col1\" >test_01</td>\n",
              "    </tr>\n",
              "    <tr>\n",
              "      <th id=\"T_1162a_level0_row23\" class=\"row_heading level0 row23\" >23</th>\n",
              "      <td id=\"T_1162a_row23_col0\" class=\"data row23 col0\" >USI</td>\n",
              "      <td id=\"T_1162a_row23_col1\" class=\"data row23 col1\" >9eca</td>\n",
              "    </tr>\n",
              "  </tbody>\n",
              "</table>\n"
            ],
            "text/plain": [
              "<pandas.io.formats.style.Styler at 0x12f9709d0>"
            ]
          },
          "metadata": {},
          "output_type": "display_data"
        }
      ],
      "source": [
        "# Creating the pipeline\n",
        "reg = setup(data = df_train,\n",
        "            target = 'total_price',\n",
        "            normalize = True,\n",
        "            #log_experiment = True,\n",
        "            experiment_name = 'test_01',\n",
        "            session_id= 2025)"
      ]
    },
    {
      "cell_type": "markdown",
      "metadata": {},
      "source": [
        "### Comparing the models"
      ]
    },
    {
      "cell_type": "code",
      "execution_count": 13,
      "metadata": {},
      "outputs": [
        {
          "data": {
            "text/html": [],
            "text/plain": [
              "<IPython.core.display.HTML object>"
            ]
          },
          "metadata": {},
          "output_type": "display_data"
        },
        {
          "data": {
            "text/html": [
              "<style type=\"text/css\">\n",
              "#T_df12d th {\n",
              "  text-align: left;\n",
              "}\n",
              "#T_df12d_row0_col0, #T_df12d_row0_col2, #T_df12d_row1_col0, #T_df12d_row1_col1, #T_df12d_row1_col3, #T_df12d_row1_col4, #T_df12d_row1_col5, #T_df12d_row1_col6, #T_df12d_row2_col0, #T_df12d_row2_col1, #T_df12d_row2_col2, #T_df12d_row2_col3, #T_df12d_row2_col4, #T_df12d_row2_col5, #T_df12d_row2_col6, #T_df12d_row3_col0, #T_df12d_row3_col1, #T_df12d_row3_col2, #T_df12d_row3_col3, #T_df12d_row3_col4, #T_df12d_row3_col5, #T_df12d_row3_col6, #T_df12d_row4_col0, #T_df12d_row4_col1, #T_df12d_row4_col2, #T_df12d_row4_col3, #T_df12d_row4_col4, #T_df12d_row4_col5, #T_df12d_row4_col6, #T_df12d_row5_col0, #T_df12d_row5_col1, #T_df12d_row5_col2, #T_df12d_row5_col3, #T_df12d_row5_col4, #T_df12d_row5_col5, #T_df12d_row5_col6, #T_df12d_row6_col0, #T_df12d_row6_col1, #T_df12d_row6_col2, #T_df12d_row6_col3, #T_df12d_row6_col4, #T_df12d_row6_col5, #T_df12d_row6_col6, #T_df12d_row7_col0, #T_df12d_row7_col1, #T_df12d_row7_col2, #T_df12d_row7_col3, #T_df12d_row7_col4, #T_df12d_row7_col5, #T_df12d_row7_col6, #T_df12d_row8_col0, #T_df12d_row8_col1, #T_df12d_row8_col2, #T_df12d_row8_col3, #T_df12d_row8_col4, #T_df12d_row8_col5, #T_df12d_row8_col6, #T_df12d_row9_col0, #T_df12d_row9_col1, #T_df12d_row9_col2, #T_df12d_row9_col3, #T_df12d_row9_col4, #T_df12d_row9_col5, #T_df12d_row9_col6, #T_df12d_row10_col0, #T_df12d_row10_col1, #T_df12d_row10_col2, #T_df12d_row10_col3, #T_df12d_row10_col4, #T_df12d_row10_col5, #T_df12d_row10_col6, #T_df12d_row11_col0, #T_df12d_row11_col1, #T_df12d_row11_col2, #T_df12d_row11_col3, #T_df12d_row11_col4, #T_df12d_row11_col5, #T_df12d_row11_col6, #T_df12d_row12_col0, #T_df12d_row12_col1, #T_df12d_row12_col2, #T_df12d_row12_col3, #T_df12d_row12_col4, #T_df12d_row12_col5, #T_df12d_row12_col6, #T_df12d_row13_col0, #T_df12d_row13_col1, #T_df12d_row13_col2, #T_df12d_row13_col3, #T_df12d_row13_col4, #T_df12d_row13_col5, #T_df12d_row13_col6, #T_df12d_row14_col0, #T_df12d_row14_col1, #T_df12d_row14_col2, #T_df12d_row14_col3, #T_df12d_row14_col4, #T_df12d_row14_col5, #T_df12d_row14_col6, #T_df12d_row15_col0, #T_df12d_row15_col1, #T_df12d_row15_col2, #T_df12d_row15_col3, #T_df12d_row15_col4, #T_df12d_row15_col5, #T_df12d_row15_col6, #T_df12d_row16_col0, #T_df12d_row16_col1, #T_df12d_row16_col2, #T_df12d_row16_col3, #T_df12d_row16_col4, #T_df12d_row16_col5, #T_df12d_row16_col6, #T_df12d_row17_col0, #T_df12d_row17_col1, #T_df12d_row17_col2, #T_df12d_row17_col3, #T_df12d_row17_col4, #T_df12d_row17_col5, #T_df12d_row17_col6 {\n",
              "  text-align: left;\n",
              "}\n",
              "#T_df12d_row0_col1, #T_df12d_row0_col3, #T_df12d_row0_col4, #T_df12d_row0_col5, #T_df12d_row0_col6, #T_df12d_row1_col2 {\n",
              "  text-align: left;\n",
              "  background-color: yellow;\n",
              "}\n",
              "#T_df12d_row0_col7, #T_df12d_row1_col7, #T_df12d_row2_col7, #T_df12d_row3_col7, #T_df12d_row4_col7, #T_df12d_row5_col7, #T_df12d_row6_col7, #T_df12d_row8_col7, #T_df12d_row9_col7, #T_df12d_row10_col7, #T_df12d_row11_col7, #T_df12d_row12_col7, #T_df12d_row13_col7, #T_df12d_row14_col7, #T_df12d_row15_col7, #T_df12d_row16_col7, #T_df12d_row17_col7 {\n",
              "  text-align: left;\n",
              "  background-color: lightgrey;\n",
              "}\n",
              "#T_df12d_row7_col7 {\n",
              "  text-align: left;\n",
              "  background-color: yellow;\n",
              "  background-color: lightgrey;\n",
              "}\n",
              "</style>\n",
              "<table id=\"T_df12d\">\n",
              "  <thead>\n",
              "    <tr>\n",
              "      <th class=\"blank level0\" >&nbsp;</th>\n",
              "      <th id=\"T_df12d_level0_col0\" class=\"col_heading level0 col0\" >Model</th>\n",
              "      <th id=\"T_df12d_level0_col1\" class=\"col_heading level0 col1\" >MAE</th>\n",
              "      <th id=\"T_df12d_level0_col2\" class=\"col_heading level0 col2\" >MSE</th>\n",
              "      <th id=\"T_df12d_level0_col3\" class=\"col_heading level0 col3\" >RMSE</th>\n",
              "      <th id=\"T_df12d_level0_col4\" class=\"col_heading level0 col4\" >R2</th>\n",
              "      <th id=\"T_df12d_level0_col5\" class=\"col_heading level0 col5\" >RMSLE</th>\n",
              "      <th id=\"T_df12d_level0_col6\" class=\"col_heading level0 col6\" >MAPE</th>\n",
              "      <th id=\"T_df12d_level0_col7\" class=\"col_heading level0 col7\" >TT (Sec)</th>\n",
              "    </tr>\n",
              "  </thead>\n",
              "  <tbody>\n",
              "    <tr>\n",
              "      <th id=\"T_df12d_level0_row0\" class=\"row_heading level0 row0\" >rf</th>\n",
              "      <td id=\"T_df12d_row0_col0\" class=\"data row0 col0\" >Random Forest Regressor</td>\n",
              "      <td id=\"T_df12d_row0_col1\" class=\"data row0 col1\" >816.5573</td>\n",
              "      <td id=\"T_df12d_row0_col2\" class=\"data row0 col2\" >3364425.7306</td>\n",
              "      <td id=\"T_df12d_row0_col3\" class=\"data row0 col3\" >1779.2232</td>\n",
              "      <td id=\"T_df12d_row0_col4\" class=\"data row0 col4\" >0.8086</td>\n",
              "      <td id=\"T_df12d_row0_col5\" class=\"data row0 col5\" >0.2513</td>\n",
              "      <td id=\"T_df12d_row0_col6\" class=\"data row0 col6\" >0.1974</td>\n",
              "      <td id=\"T_df12d_row0_col7\" class=\"data row0 col7\" >0.8980</td>\n",
              "    </tr>\n",
              "    <tr>\n",
              "      <th id=\"T_df12d_level0_row1\" class=\"row_heading level0 row1\" >lightgbm</th>\n",
              "      <td id=\"T_df12d_row1_col0\" class=\"data row1 col0\" >Light Gradient Boosting Machine</td>\n",
              "      <td id=\"T_df12d_row1_col1\" class=\"data row1 col1\" >834.6838</td>\n",
              "      <td id=\"T_df12d_row1_col2\" class=\"data row1 col2\" >3348695.8558</td>\n",
              "      <td id=\"T_df12d_row1_col3\" class=\"data row1 col3\" >1790.0347</td>\n",
              "      <td id=\"T_df12d_row1_col4\" class=\"data row1 col4\" >0.8059</td>\n",
              "      <td id=\"T_df12d_row1_col5\" class=\"data row1 col5\" >0.2526</td>\n",
              "      <td id=\"T_df12d_row1_col6\" class=\"data row1 col6\" >0.2036</td>\n",
              "      <td id=\"T_df12d_row1_col7\" class=\"data row1 col7\" >1.3720</td>\n",
              "    </tr>\n",
              "    <tr>\n",
              "      <th id=\"T_df12d_level0_row2\" class=\"row_heading level0 row2\" >et</th>\n",
              "      <td id=\"T_df12d_row2_col0\" class=\"data row2 col0\" >Extra Trees Regressor</td>\n",
              "      <td id=\"T_df12d_row2_col1\" class=\"data row2 col1\" >865.9335</td>\n",
              "      <td id=\"T_df12d_row2_col2\" class=\"data row2 col2\" >3609256.8144</td>\n",
              "      <td id=\"T_df12d_row2_col3\" class=\"data row2 col3\" >1859.3658</td>\n",
              "      <td id=\"T_df12d_row2_col4\" class=\"data row2 col4\" >0.7910</td>\n",
              "      <td id=\"T_df12d_row2_col5\" class=\"data row2 col5\" >0.2737</td>\n",
              "      <td id=\"T_df12d_row2_col6\" class=\"data row2 col6\" >0.2113</td>\n",
              "      <td id=\"T_df12d_row2_col7\" class=\"data row2 col7\" >0.7150</td>\n",
              "    </tr>\n",
              "    <tr>\n",
              "      <th id=\"T_df12d_level0_row3\" class=\"row_heading level0 row3\" >gbr</th>\n",
              "      <td id=\"T_df12d_row3_col0\" class=\"data row3 col0\" >Gradient Boosting Regressor</td>\n",
              "      <td id=\"T_df12d_row3_col1\" class=\"data row3 col1\" >896.0187</td>\n",
              "      <td id=\"T_df12d_row3_col2\" class=\"data row3 col2\" >3671759.6905</td>\n",
              "      <td id=\"T_df12d_row3_col3\" class=\"data row3 col3\" >1878.5228</td>\n",
              "      <td id=\"T_df12d_row3_col4\" class=\"data row3 col4\" >0.7869</td>\n",
              "      <td id=\"T_df12d_row3_col5\" class=\"data row3 col5\" >0.2776</td>\n",
              "      <td id=\"T_df12d_row3_col6\" class=\"data row3 col6\" >0.2288</td>\n",
              "      <td id=\"T_df12d_row3_col7\" class=\"data row3 col7\" >0.3150</td>\n",
              "    </tr>\n",
              "    <tr>\n",
              "      <th id=\"T_df12d_level0_row4\" class=\"row_heading level0 row4\" >knn</th>\n",
              "      <td id=\"T_df12d_row4_col0\" class=\"data row4 col0\" >K Neighbors Regressor</td>\n",
              "      <td id=\"T_df12d_row4_col1\" class=\"data row4 col1\" >1012.9650</td>\n",
              "      <td id=\"T_df12d_row4_col2\" class=\"data row4 col2\" >4780744.1469</td>\n",
              "      <td id=\"T_df12d_row4_col3\" class=\"data row4 col3\" >2138.0741</td>\n",
              "      <td id=\"T_df12d_row4_col4\" class=\"data row4 col4\" >0.7256</td>\n",
              "      <td id=\"T_df12d_row4_col5\" class=\"data row4 col5\" >0.3022</td>\n",
              "      <td id=\"T_df12d_row4_col6\" class=\"data row4 col6\" >0.2394</td>\n",
              "      <td id=\"T_df12d_row4_col7\" class=\"data row4 col7\" >0.1270</td>\n",
              "    </tr>\n",
              "    <tr>\n",
              "      <th id=\"T_df12d_level0_row5\" class=\"row_heading level0 row5\" >lasso</th>\n",
              "      <td id=\"T_df12d_row5_col0\" class=\"data row5 col0\" >Lasso Regression</td>\n",
              "      <td id=\"T_df12d_row5_col1\" class=\"data row5 col1\" >1147.5125</td>\n",
              "      <td id=\"T_df12d_row5_col2\" class=\"data row5 col2\" >4688122.4757</td>\n",
              "      <td id=\"T_df12d_row5_col3\" class=\"data row5 col3\" >2132.9356</td>\n",
              "      <td id=\"T_df12d_row5_col4\" class=\"data row5 col4\" >0.7241</td>\n",
              "      <td id=\"T_df12d_row5_col5\" class=\"data row5 col5\" >0.4635</td>\n",
              "      <td id=\"T_df12d_row5_col6\" class=\"data row5 col6\" >0.3224</td>\n",
              "      <td id=\"T_df12d_row5_col7\" class=\"data row5 col7\" >0.1170</td>\n",
              "    </tr>\n",
              "    <tr>\n",
              "      <th id=\"T_df12d_level0_row6\" class=\"row_heading level0 row6\" >ridge</th>\n",
              "      <td id=\"T_df12d_row6_col0\" class=\"data row6 col0\" >Ridge Regression</td>\n",
              "      <td id=\"T_df12d_row6_col1\" class=\"data row6 col1\" >1147.9023</td>\n",
              "      <td id=\"T_df12d_row6_col2\" class=\"data row6 col2\" >4688538.1140</td>\n",
              "      <td id=\"T_df12d_row6_col3\" class=\"data row6 col3\" >2133.0469</td>\n",
              "      <td id=\"T_df12d_row6_col4\" class=\"data row6 col4\" >0.7241</td>\n",
              "      <td id=\"T_df12d_row6_col5\" class=\"data row6 col5\" >0.4623</td>\n",
              "      <td id=\"T_df12d_row6_col6\" class=\"data row6 col6\" >0.3226</td>\n",
              "      <td id=\"T_df12d_row6_col7\" class=\"data row6 col7\" >0.0940</td>\n",
              "    </tr>\n",
              "    <tr>\n",
              "      <th id=\"T_df12d_level0_row7\" class=\"row_heading level0 row7\" >llar</th>\n",
              "      <td id=\"T_df12d_row7_col0\" class=\"data row7 col0\" >Lasso Least Angle Regression</td>\n",
              "      <td id=\"T_df12d_row7_col1\" class=\"data row7 col1\" >1147.4926</td>\n",
              "      <td id=\"T_df12d_row7_col2\" class=\"data row7 col2\" >4688088.6861</td>\n",
              "      <td id=\"T_df12d_row7_col3\" class=\"data row7 col3\" >2132.9267</td>\n",
              "      <td id=\"T_df12d_row7_col4\" class=\"data row7 col4\" >0.7241</td>\n",
              "      <td id=\"T_df12d_row7_col5\" class=\"data row7 col5\" >0.4637</td>\n",
              "      <td id=\"T_df12d_row7_col6\" class=\"data row7 col6\" >0.3224</td>\n",
              "      <td id=\"T_df12d_row7_col7\" class=\"data row7 col7\" >0.0650</td>\n",
              "    </tr>\n",
              "    <tr>\n",
              "      <th id=\"T_df12d_level0_row8\" class=\"row_heading level0 row8\" >br</th>\n",
              "      <td id=\"T_df12d_row8_col0\" class=\"data row8 col0\" >Bayesian Ridge</td>\n",
              "      <td id=\"T_df12d_row8_col1\" class=\"data row8 col1\" >1147.4076</td>\n",
              "      <td id=\"T_df12d_row8_col2\" class=\"data row8 col2\" >4688232.0094</td>\n",
              "      <td id=\"T_df12d_row8_col3\" class=\"data row8 col3\" >2132.8907</td>\n",
              "      <td id=\"T_df12d_row8_col4\" class=\"data row8 col4\" >0.7241</td>\n",
              "      <td id=\"T_df12d_row8_col5\" class=\"data row8 col5\" >0.4631</td>\n",
              "      <td id=\"T_df12d_row8_col6\" class=\"data row8 col6\" >0.3224</td>\n",
              "      <td id=\"T_df12d_row8_col7\" class=\"data row8 col7\" >0.0990</td>\n",
              "    </tr>\n",
              "    <tr>\n",
              "      <th id=\"T_df12d_level0_row9\" class=\"row_heading level0 row9\" >lr</th>\n",
              "      <td id=\"T_df12d_row9_col0\" class=\"data row9 col0\" >Linear Regression</td>\n",
              "      <td id=\"T_df12d_row9_col1\" class=\"data row9 col1\" >1148.0008</td>\n",
              "      <td id=\"T_df12d_row9_col2\" class=\"data row9 col2\" >4688629.0340</td>\n",
              "      <td id=\"T_df12d_row9_col3\" class=\"data row9 col3\" >2133.0841</td>\n",
              "      <td id=\"T_df12d_row9_col4\" class=\"data row9 col4\" >0.7240</td>\n",
              "      <td id=\"T_df12d_row9_col5\" class=\"data row9 col5\" >0.4620</td>\n",
              "      <td id=\"T_df12d_row9_col6\" class=\"data row9 col6\" >0.3226</td>\n",
              "      <td id=\"T_df12d_row9_col7\" class=\"data row9 col7\" >1.6170</td>\n",
              "    </tr>\n",
              "    <tr>\n",
              "      <th id=\"T_df12d_level0_row10\" class=\"row_heading level0 row10\" >lar</th>\n",
              "      <td id=\"T_df12d_row10_col0\" class=\"data row10 col0\" >Least Angle Regression</td>\n",
              "      <td id=\"T_df12d_row10_col1\" class=\"data row10 col1\" >1148.0008</td>\n",
              "      <td id=\"T_df12d_row10_col2\" class=\"data row10 col2\" >4688629.0340</td>\n",
              "      <td id=\"T_df12d_row10_col3\" class=\"data row10 col3\" >2133.0841</td>\n",
              "      <td id=\"T_df12d_row10_col4\" class=\"data row10 col4\" >0.7240</td>\n",
              "      <td id=\"T_df12d_row10_col5\" class=\"data row10 col5\" >0.4620</td>\n",
              "      <td id=\"T_df12d_row10_col6\" class=\"data row10 col6\" >0.3226</td>\n",
              "      <td id=\"T_df12d_row10_col7\" class=\"data row10 col7\" >0.0830</td>\n",
              "    </tr>\n",
              "    <tr>\n",
              "      <th id=\"T_df12d_level0_row11\" class=\"row_heading level0 row11\" >huber</th>\n",
              "      <td id=\"T_df12d_row11_col0\" class=\"data row11 col0\" >Huber Regressor</td>\n",
              "      <td id=\"T_df12d_row11_col1\" class=\"data row11 col1\" >1023.8890</td>\n",
              "      <td id=\"T_df12d_row11_col2\" class=\"data row11 col2\" >5227226.4150</td>\n",
              "      <td id=\"T_df12d_row11_col3\" class=\"data row11 col3\" >2241.0067</td>\n",
              "      <td id=\"T_df12d_row11_col4\" class=\"data row11 col4\" >0.6989</td>\n",
              "      <td id=\"T_df12d_row11_col5\" class=\"data row11 col5\" >0.3229</td>\n",
              "      <td id=\"T_df12d_row11_col6\" class=\"data row11 col6\" >0.2540</td>\n",
              "      <td id=\"T_df12d_row11_col7\" class=\"data row11 col7\" >0.1210</td>\n",
              "    </tr>\n",
              "    <tr>\n",
              "      <th id=\"T_df12d_level0_row12\" class=\"row_heading level0 row12\" >par</th>\n",
              "      <td id=\"T_df12d_row12_col0\" class=\"data row12 col0\" >Passive Aggressive Regressor</td>\n",
              "      <td id=\"T_df12d_row12_col1\" class=\"data row12 col1\" >1025.8321</td>\n",
              "      <td id=\"T_df12d_row12_col2\" class=\"data row12 col2\" >5271269.2509</td>\n",
              "      <td id=\"T_df12d_row12_col3\" class=\"data row12 col3\" >2250.9495</td>\n",
              "      <td id=\"T_df12d_row12_col4\" class=\"data row12 col4\" >0.6963</td>\n",
              "      <td id=\"T_df12d_row12_col5\" class=\"data row12 col5\" >0.3200</td>\n",
              "      <td id=\"T_df12d_row12_col6\" class=\"data row12 col6\" >0.2536</td>\n",
              "      <td id=\"T_df12d_row12_col7\" class=\"data row12 col7\" >0.0920</td>\n",
              "    </tr>\n",
              "    <tr>\n",
              "      <th id=\"T_df12d_level0_row13\" class=\"row_heading level0 row13\" >en</th>\n",
              "      <td id=\"T_df12d_row13_col0\" class=\"data row13 col0\" >Elastic Net</td>\n",
              "      <td id=\"T_df12d_row13_col1\" class=\"data row13 col1\" >1166.6333</td>\n",
              "      <td id=\"T_df12d_row13_col2\" class=\"data row13 col2\" >5310251.7217</td>\n",
              "      <td id=\"T_df12d_row13_col3\" class=\"data row13 col3\" >2259.9107</td>\n",
              "      <td id=\"T_df12d_row13_col4\" class=\"data row13 col4\" >0.6928</td>\n",
              "      <td id=\"T_df12d_row13_col5\" class=\"data row13 col5\" >0.4418</td>\n",
              "      <td id=\"T_df12d_row13_col6\" class=\"data row13 col6\" >0.3362</td>\n",
              "      <td id=\"T_df12d_row13_col7\" class=\"data row13 col7\" >0.0880</td>\n",
              "    </tr>\n",
              "    <tr>\n",
              "      <th id=\"T_df12d_level0_row14\" class=\"row_heading level0 row14\" >dt</th>\n",
              "      <td id=\"T_df12d_row14_col0\" class=\"data row14 col0\" >Decision Tree Regressor</td>\n",
              "      <td id=\"T_df12d_row14_col1\" class=\"data row14 col1\" >1036.4839</td>\n",
              "      <td id=\"T_df12d_row14_col2\" class=\"data row14 col2\" >5858627.1272</td>\n",
              "      <td id=\"T_df12d_row14_col3\" class=\"data row14 col3\" >2362.2834</td>\n",
              "      <td id=\"T_df12d_row14_col4\" class=\"data row14 col4\" >0.6600</td>\n",
              "      <td id=\"T_df12d_row14_col5\" class=\"data row14 col5\" >0.3198</td>\n",
              "      <td id=\"T_df12d_row14_col6\" class=\"data row14 col6\" >0.2392</td>\n",
              "      <td id=\"T_df12d_row14_col7\" class=\"data row14 col7\" >0.1210</td>\n",
              "    </tr>\n",
              "    <tr>\n",
              "      <th id=\"T_df12d_level0_row15\" class=\"row_heading level0 row15\" >omp</th>\n",
              "      <td id=\"T_df12d_row15_col0\" class=\"data row15 col0\" >Orthogonal Matching Pursuit</td>\n",
              "      <td id=\"T_df12d_row15_col1\" class=\"data row15 col1\" >1412.9672</td>\n",
              "      <td id=\"T_df12d_row15_col2\" class=\"data row15 col2\" >6962067.5537</td>\n",
              "      <td id=\"T_df12d_row15_col3\" class=\"data row15 col3\" >2618.6086</td>\n",
              "      <td id=\"T_df12d_row15_col4\" class=\"data row15 col4\" >0.5781</td>\n",
              "      <td id=\"T_df12d_row15_col5\" class=\"data row15 col5\" >0.4613</td>\n",
              "      <td id=\"T_df12d_row15_col6\" class=\"data row15 col6\" >0.4000</td>\n",
              "      <td id=\"T_df12d_row15_col7\" class=\"data row15 col7\" >0.0760</td>\n",
              "    </tr>\n",
              "    <tr>\n",
              "      <th id=\"T_df12d_level0_row16\" class=\"row_heading level0 row16\" >ada</th>\n",
              "      <td id=\"T_df12d_row16_col0\" class=\"data row16 col0\" >AdaBoost Regressor</td>\n",
              "      <td id=\"T_df12d_row16_col1\" class=\"data row16 col1\" >2794.9881</td>\n",
              "      <td id=\"T_df12d_row16_col2\" class=\"data row16 col2\" >10657388.8211</td>\n",
              "      <td id=\"T_df12d_row16_col3\" class=\"data row16 col3\" >3247.9714</td>\n",
              "      <td id=\"T_df12d_row16_col4\" class=\"data row16 col4\" >0.3310</td>\n",
              "      <td id=\"T_df12d_row16_col5\" class=\"data row16 col5\" >0.8022</td>\n",
              "      <td id=\"T_df12d_row16_col6\" class=\"data row16 col6\" >1.1896</td>\n",
              "      <td id=\"T_df12d_row16_col7\" class=\"data row16 col7\" >0.2870</td>\n",
              "    </tr>\n",
              "    <tr>\n",
              "      <th id=\"T_df12d_level0_row17\" class=\"row_heading level0 row17\" >dummy</th>\n",
              "      <td id=\"T_df12d_row17_col0\" class=\"data row17 col0\" >Dummy Regressor</td>\n",
              "      <td id=\"T_df12d_row17_col1\" class=\"data row17 col1\" >2443.1115</td>\n",
              "      <td id=\"T_df12d_row17_col2\" class=\"data row17 col2\" >16917923.4334</td>\n",
              "      <td id=\"T_df12d_row17_col3\" class=\"data row17 col3\" >4069.7832</td>\n",
              "      <td id=\"T_df12d_row17_col4\" class=\"data row17 col4\" >-0.0056</td>\n",
              "      <td id=\"T_df12d_row17_col5\" class=\"data row17 col5\" >0.7490</td>\n",
              "      <td id=\"T_df12d_row17_col6\" class=\"data row17 col6\" >0.8523</td>\n",
              "      <td id=\"T_df12d_row17_col7\" class=\"data row17 col7\" >0.0770</td>\n",
              "    </tr>\n",
              "  </tbody>\n",
              "</table>\n"
            ],
            "text/plain": [
              "<pandas.io.formats.style.Styler at 0x12f7c6110>"
            ]
          },
          "metadata": {},
          "output_type": "display_data"
        },
        {
          "data": {
            "text/html": [],
            "text/plain": [
              "<IPython.core.display.HTML object>"
            ]
          },
          "metadata": {},
          "output_type": "display_data"
        }
      ],
      "source": [
        "import logging\n",
        "\n",
        "# Suppressing the log output from LightGBM and other libraries\n",
        "logging.getLogger(\"pycaret\").setLevel(logging.WARNING)\n",
        "logging.getLogger(\"lightgbm\").setLevel(logging.WARNING)\n",
        "\n",
        "# Now running compare_models\n",
        "best = compare_models()\n"
      ]
    },
    {
      "cell_type": "markdown",
      "metadata": {},
      "source": [
        "### Verifying and instantiating the best model"
      ]
    },
    {
      "cell_type": "code",
      "execution_count": 14,
      "metadata": {},
      "outputs": [
        {
          "name": "stdout",
          "output_type": "stream",
          "text": [
            "RandomForestRegressor(n_jobs=-1, random_state=2025)\n"
          ]
        }
      ],
      "source": [
        "# Checking the best model \n",
        "print(best)"
      ]
    },
    {
      "cell_type": "code",
      "execution_count": 15,
      "metadata": {},
      "outputs": [
        {
          "data": {
            "text/html": [],
            "text/plain": [
              "<IPython.core.display.HTML object>"
            ]
          },
          "metadata": {},
          "output_type": "display_data"
        },
        {
          "data": {
            "text/html": [
              "<style type=\"text/css\">\n",
              "#T_022ad_row10_col0, #T_022ad_row10_col1, #T_022ad_row10_col2, #T_022ad_row10_col3, #T_022ad_row10_col4, #T_022ad_row10_col5 {\n",
              "  background: yellow;\n",
              "}\n",
              "</style>\n",
              "<table id=\"T_022ad\">\n",
              "  <thead>\n",
              "    <tr>\n",
              "      <th class=\"blank level0\" >&nbsp;</th>\n",
              "      <th id=\"T_022ad_level0_col0\" class=\"col_heading level0 col0\" >MAE</th>\n",
              "      <th id=\"T_022ad_level0_col1\" class=\"col_heading level0 col1\" >MSE</th>\n",
              "      <th id=\"T_022ad_level0_col2\" class=\"col_heading level0 col2\" >RMSE</th>\n",
              "      <th id=\"T_022ad_level0_col3\" class=\"col_heading level0 col3\" >R2</th>\n",
              "      <th id=\"T_022ad_level0_col4\" class=\"col_heading level0 col4\" >RMSLE</th>\n",
              "      <th id=\"T_022ad_level0_col5\" class=\"col_heading level0 col5\" >MAPE</th>\n",
              "    </tr>\n",
              "    <tr>\n",
              "      <th class=\"index_name level0\" >Fold</th>\n",
              "      <th class=\"blank col0\" >&nbsp;</th>\n",
              "      <th class=\"blank col1\" >&nbsp;</th>\n",
              "      <th class=\"blank col2\" >&nbsp;</th>\n",
              "      <th class=\"blank col3\" >&nbsp;</th>\n",
              "      <th class=\"blank col4\" >&nbsp;</th>\n",
              "      <th class=\"blank col5\" >&nbsp;</th>\n",
              "    </tr>\n",
              "  </thead>\n",
              "  <tbody>\n",
              "    <tr>\n",
              "      <th id=\"T_022ad_level0_row0\" class=\"row_heading level0 row0\" >0</th>\n",
              "      <td id=\"T_022ad_row0_col0\" class=\"data row0 col0\" >815.7463</td>\n",
              "      <td id=\"T_022ad_row0_col1\" class=\"data row0 col1\" >4150883.2764</td>\n",
              "      <td id=\"T_022ad_row0_col2\" class=\"data row0 col2\" >2037.3717</td>\n",
              "      <td id=\"T_022ad_row0_col3\" class=\"data row0 col3\" >0.8328</td>\n",
              "      <td id=\"T_022ad_row0_col4\" class=\"data row0 col4\" >0.2344</td>\n",
              "      <td id=\"T_022ad_row0_col5\" class=\"data row0 col5\" >0.1908</td>\n",
              "    </tr>\n",
              "    <tr>\n",
              "      <th id=\"T_022ad_level0_row1\" class=\"row_heading level0 row1\" >1</th>\n",
              "      <td id=\"T_022ad_row1_col0\" class=\"data row1 col0\" >782.5250</td>\n",
              "      <td id=\"T_022ad_row1_col1\" class=\"data row1 col1\" >2180491.0454</td>\n",
              "      <td id=\"T_022ad_row1_col2\" class=\"data row1 col2\" >1476.6486</td>\n",
              "      <td id=\"T_022ad_row1_col3\" class=\"data row1 col3\" >0.8348</td>\n",
              "      <td id=\"T_022ad_row1_col4\" class=\"data row1 col4\" >0.2495</td>\n",
              "      <td id=\"T_022ad_row1_col5\" class=\"data row1 col5\" >0.1987</td>\n",
              "    </tr>\n",
              "    <tr>\n",
              "      <th id=\"T_022ad_level0_row2\" class=\"row_heading level0 row2\" >2</th>\n",
              "      <td id=\"T_022ad_row2_col0\" class=\"data row2 col0\" >581.7645</td>\n",
              "      <td id=\"T_022ad_row2_col1\" class=\"data row2 col1\" >992457.4419</td>\n",
              "      <td id=\"T_022ad_row2_col2\" class=\"data row2 col2\" >996.2216</td>\n",
              "      <td id=\"T_022ad_row2_col3\" class=\"data row2 col3\" >0.8659</td>\n",
              "      <td id=\"T_022ad_row2_col4\" class=\"data row2 col4\" >0.2218</td>\n",
              "      <td id=\"T_022ad_row2_col5\" class=\"data row2 col5\" >0.1760</td>\n",
              "    </tr>\n",
              "    <tr>\n",
              "      <th id=\"T_022ad_level0_row3\" class=\"row_heading level0 row3\" >3</th>\n",
              "      <td id=\"T_022ad_row3_col0\" class=\"data row3 col0\" >881.7208</td>\n",
              "      <td id=\"T_022ad_row3_col1\" class=\"data row3 col1\" >2792340.1089</td>\n",
              "      <td id=\"T_022ad_row3_col2\" class=\"data row3 col2\" >1671.0297</td>\n",
              "      <td id=\"T_022ad_row3_col3\" class=\"data row3 col3\" >0.8292</td>\n",
              "      <td id=\"T_022ad_row3_col4\" class=\"data row3 col4\" >0.2683</td>\n",
              "      <td id=\"T_022ad_row3_col5\" class=\"data row3 col5\" >0.2029</td>\n",
              "    </tr>\n",
              "    <tr>\n",
              "      <th id=\"T_022ad_level0_row4\" class=\"row_heading level0 row4\" >4</th>\n",
              "      <td id=\"T_022ad_row4_col0\" class=\"data row4 col0\" >1014.9183</td>\n",
              "      <td id=\"T_022ad_row4_col1\" class=\"data row4 col1\" >7645926.8352</td>\n",
              "      <td id=\"T_022ad_row4_col2\" class=\"data row4 col2\" >2765.1269</td>\n",
              "      <td id=\"T_022ad_row4_col3\" class=\"data row4 col3\" >0.6911</td>\n",
              "      <td id=\"T_022ad_row4_col4\" class=\"data row4 col4\" >0.2597</td>\n",
              "      <td id=\"T_022ad_row4_col5\" class=\"data row4 col5\" >0.2047</td>\n",
              "    </tr>\n",
              "    <tr>\n",
              "      <th id=\"T_022ad_level0_row5\" class=\"row_heading level0 row5\" >5</th>\n",
              "      <td id=\"T_022ad_row5_col0\" class=\"data row5 col0\" >747.9228</td>\n",
              "      <td id=\"T_022ad_row5_col1\" class=\"data row5 col1\" >2822254.5147</td>\n",
              "      <td id=\"T_022ad_row5_col2\" class=\"data row5 col2\" >1679.9567</td>\n",
              "      <td id=\"T_022ad_row5_col3\" class=\"data row5 col3\" >0.8302</td>\n",
              "      <td id=\"T_022ad_row5_col4\" class=\"data row5 col4\" >0.2506</td>\n",
              "      <td id=\"T_022ad_row5_col5\" class=\"data row5 col5\" >0.1962</td>\n",
              "    </tr>\n",
              "    <tr>\n",
              "      <th id=\"T_022ad_level0_row6\" class=\"row_heading level0 row6\" >6</th>\n",
              "      <td id=\"T_022ad_row6_col0\" class=\"data row6 col0\" >753.3570</td>\n",
              "      <td id=\"T_022ad_row6_col1\" class=\"data row6 col1\" >2452382.3496</td>\n",
              "      <td id=\"T_022ad_row6_col2\" class=\"data row6 col2\" >1566.0084</td>\n",
              "      <td id=\"T_022ad_row6_col3\" class=\"data row6 col3\" >0.8469</td>\n",
              "      <td id=\"T_022ad_row6_col4\" class=\"data row6 col4\" >0.2575</td>\n",
              "      <td id=\"T_022ad_row6_col5\" class=\"data row6 col5\" >0.1872</td>\n",
              "    </tr>\n",
              "    <tr>\n",
              "      <th id=\"T_022ad_level0_row7\" class=\"row_heading level0 row7\" >7</th>\n",
              "      <td id=\"T_022ad_row7_col0\" class=\"data row7 col0\" >787.2326</td>\n",
              "      <td id=\"T_022ad_row7_col1\" class=\"data row7 col1\" >2416721.4364</td>\n",
              "      <td id=\"T_022ad_row7_col2\" class=\"data row7 col2\" >1554.5808</td>\n",
              "      <td id=\"T_022ad_row7_col3\" class=\"data row7 col3\" >0.8530</td>\n",
              "      <td id=\"T_022ad_row7_col4\" class=\"data row7 col4\" >0.2469</td>\n",
              "      <td id=\"T_022ad_row7_col5\" class=\"data row7 col5\" >0.1936</td>\n",
              "    </tr>\n",
              "    <tr>\n",
              "      <th id=\"T_022ad_level0_row8\" class=\"row_heading level0 row8\" >8</th>\n",
              "      <td id=\"T_022ad_row8_col0\" class=\"data row8 col0\" >881.0730</td>\n",
              "      <td id=\"T_022ad_row8_col1\" class=\"data row8 col1\" >4361064.8368</td>\n",
              "      <td id=\"T_022ad_row8_col2\" class=\"data row8 col2\" >2088.3163</td>\n",
              "      <td id=\"T_022ad_row8_col3\" class=\"data row8 col3\" >0.7305</td>\n",
              "      <td id=\"T_022ad_row8_col4\" class=\"data row8 col4\" >0.2604</td>\n",
              "      <td id=\"T_022ad_row8_col5\" class=\"data row8 col5\" >0.2097</td>\n",
              "    </tr>\n",
              "    <tr>\n",
              "      <th id=\"T_022ad_level0_row9\" class=\"row_heading level0 row9\" >9</th>\n",
              "      <td id=\"T_022ad_row9_col0\" class=\"data row9 col0\" >919.3131</td>\n",
              "      <td id=\"T_022ad_row9_col1\" class=\"data row9 col1\" >3829735.4609</td>\n",
              "      <td id=\"T_022ad_row9_col2\" class=\"data row9 col2\" >1956.9710</td>\n",
              "      <td id=\"T_022ad_row9_col3\" class=\"data row9 col3\" >0.7720</td>\n",
              "      <td id=\"T_022ad_row9_col4\" class=\"data row9 col4\" >0.2639</td>\n",
              "      <td id=\"T_022ad_row9_col5\" class=\"data row9 col5\" >0.2138</td>\n",
              "    </tr>\n",
              "    <tr>\n",
              "      <th id=\"T_022ad_level0_row10\" class=\"row_heading level0 row10\" >Mean</th>\n",
              "      <td id=\"T_022ad_row10_col0\" class=\"data row10 col0\" >816.5573</td>\n",
              "      <td id=\"T_022ad_row10_col1\" class=\"data row10 col1\" >3364425.7306</td>\n",
              "      <td id=\"T_022ad_row10_col2\" class=\"data row10 col2\" >1779.2232</td>\n",
              "      <td id=\"T_022ad_row10_col3\" class=\"data row10 col3\" >0.8086</td>\n",
              "      <td id=\"T_022ad_row10_col4\" class=\"data row10 col4\" >0.2513</td>\n",
              "      <td id=\"T_022ad_row10_col5\" class=\"data row10 col5\" >0.1974</td>\n",
              "    </tr>\n",
              "    <tr>\n",
              "      <th id=\"T_022ad_level0_row11\" class=\"row_heading level0 row11\" >Std</th>\n",
              "      <td id=\"T_022ad_row11_col0\" class=\"data row11 col0\" >111.4297</td>\n",
              "      <td id=\"T_022ad_row11_col1\" class=\"data row11 col1\" >1718682.7188</td>\n",
              "      <td id=\"T_022ad_row11_col2\" class=\"data row11 col2\" >445.8595</td>\n",
              "      <td id=\"T_022ad_row11_col3\" class=\"data row11 col3\" >0.0549</td>\n",
              "      <td id=\"T_022ad_row11_col4\" class=\"data row11 col4\" >0.0135</td>\n",
              "      <td id=\"T_022ad_row11_col5\" class=\"data row11 col5\" >0.0106</td>\n",
              "    </tr>\n",
              "  </tbody>\n",
              "</table>\n"
            ],
            "text/plain": [
              "<pandas.io.formats.style.Styler at 0x12fbca950>"
            ]
          },
          "metadata": {},
          "output_type": "display_data"
        },
        {
          "data": {
            "application/vnd.jupyter.widget-view+json": {
              "model_id": "d197f9c9943b42d1bcc7fc23eaba92ff",
              "version_major": 2,
              "version_minor": 0
            },
            "text/plain": [
              "Processing:   0%|          | 0/4 [00:00<?, ?it/s]"
            ]
          },
          "metadata": {},
          "output_type": "display_data"
        }
      ],
      "source": [
        "# Instantiating the model\n",
        "rf = create_model('rf')"
      ]
    },
    {
      "cell_type": "markdown",
      "metadata": {},
      "source": [
        "### Hyperparameter Tuning"
      ]
    },
    {
      "cell_type": "code",
      "execution_count": 16,
      "metadata": {},
      "outputs": [
        {
          "data": {
            "text/html": [],
            "text/plain": [
              "<IPython.core.display.HTML object>"
            ]
          },
          "metadata": {},
          "output_type": "display_data"
        },
        {
          "data": {
            "text/html": [
              "<style type=\"text/css\">\n",
              "#T_f7adf_row10_col0, #T_f7adf_row10_col1, #T_f7adf_row10_col2, #T_f7adf_row10_col3, #T_f7adf_row10_col4, #T_f7adf_row10_col5 {\n",
              "  background: yellow;\n",
              "}\n",
              "</style>\n",
              "<table id=\"T_f7adf\">\n",
              "  <thead>\n",
              "    <tr>\n",
              "      <th class=\"blank level0\" >&nbsp;</th>\n",
              "      <th id=\"T_f7adf_level0_col0\" class=\"col_heading level0 col0\" >MAE</th>\n",
              "      <th id=\"T_f7adf_level0_col1\" class=\"col_heading level0 col1\" >MSE</th>\n",
              "      <th id=\"T_f7adf_level0_col2\" class=\"col_heading level0 col2\" >RMSE</th>\n",
              "      <th id=\"T_f7adf_level0_col3\" class=\"col_heading level0 col3\" >R2</th>\n",
              "      <th id=\"T_f7adf_level0_col4\" class=\"col_heading level0 col4\" >RMSLE</th>\n",
              "      <th id=\"T_f7adf_level0_col5\" class=\"col_heading level0 col5\" >MAPE</th>\n",
              "    </tr>\n",
              "    <tr>\n",
              "      <th class=\"index_name level0\" >Fold</th>\n",
              "      <th class=\"blank col0\" >&nbsp;</th>\n",
              "      <th class=\"blank col1\" >&nbsp;</th>\n",
              "      <th class=\"blank col2\" >&nbsp;</th>\n",
              "      <th class=\"blank col3\" >&nbsp;</th>\n",
              "      <th class=\"blank col4\" >&nbsp;</th>\n",
              "      <th class=\"blank col5\" >&nbsp;</th>\n",
              "    </tr>\n",
              "  </thead>\n",
              "  <tbody>\n",
              "    <tr>\n",
              "      <th id=\"T_f7adf_level0_row0\" class=\"row_heading level0 row0\" >0</th>\n",
              "      <td id=\"T_f7adf_row0_col0\" class=\"data row0 col0\" >895.5813</td>\n",
              "      <td id=\"T_f7adf_row0_col1\" class=\"data row0 col1\" >5083354.4726</td>\n",
              "      <td id=\"T_f7adf_row0_col2\" class=\"data row0 col2\" >2254.6296</td>\n",
              "      <td id=\"T_f7adf_row0_col3\" class=\"data row0 col3\" >0.7953</td>\n",
              "      <td id=\"T_f7adf_row0_col4\" class=\"data row0 col4\" >0.2669</td>\n",
              "      <td id=\"T_f7adf_row0_col5\" class=\"data row0 col5\" >0.2216</td>\n",
              "    </tr>\n",
              "    <tr>\n",
              "      <th id=\"T_f7adf_level0_row1\" class=\"row_heading level0 row1\" >1</th>\n",
              "      <td id=\"T_f7adf_row1_col0\" class=\"data row1 col0\" >813.4846</td>\n",
              "      <td id=\"T_f7adf_row1_col1\" class=\"data row1 col1\" >2445667.8917</td>\n",
              "      <td id=\"T_f7adf_row1_col2\" class=\"data row1 col2\" >1563.8631</td>\n",
              "      <td id=\"T_f7adf_row1_col3\" class=\"data row1 col3\" >0.8147</td>\n",
              "      <td id=\"T_f7adf_row1_col4\" class=\"data row1 col4\" >0.2608</td>\n",
              "      <td id=\"T_f7adf_row1_col5\" class=\"data row1 col5\" >0.2118</td>\n",
              "    </tr>\n",
              "    <tr>\n",
              "      <th id=\"T_f7adf_level0_row2\" class=\"row_heading level0 row2\" >2</th>\n",
              "      <td id=\"T_f7adf_row2_col0\" class=\"data row2 col0\" >626.8431</td>\n",
              "      <td id=\"T_f7adf_row2_col1\" class=\"data row2 col1\" >1116225.8503</td>\n",
              "      <td id=\"T_f7adf_row2_col2\" class=\"data row2 col2\" >1056.5159</td>\n",
              "      <td id=\"T_f7adf_row2_col3\" class=\"data row2 col3\" >0.8491</td>\n",
              "      <td id=\"T_f7adf_row2_col4\" class=\"data row2 col4\" >0.2319</td>\n",
              "      <td id=\"T_f7adf_row2_col5\" class=\"data row2 col5\" >0.1885</td>\n",
              "    </tr>\n",
              "    <tr>\n",
              "      <th id=\"T_f7adf_level0_row3\" class=\"row_heading level0 row3\" >3</th>\n",
              "      <td id=\"T_f7adf_row3_col0\" class=\"data row3 col0\" >891.9170</td>\n",
              "      <td id=\"T_f7adf_row3_col1\" class=\"data row3 col1\" >2616029.6760</td>\n",
              "      <td id=\"T_f7adf_row3_col2\" class=\"data row3 col2\" >1617.4145</td>\n",
              "      <td id=\"T_f7adf_row3_col3\" class=\"data row3 col3\" >0.8400</td>\n",
              "      <td id=\"T_f7adf_row3_col4\" class=\"data row3 col4\" >0.2853</td>\n",
              "      <td id=\"T_f7adf_row3_col5\" class=\"data row3 col5\" >0.2280</td>\n",
              "    </tr>\n",
              "    <tr>\n",
              "      <th id=\"T_f7adf_level0_row4\" class=\"row_heading level0 row4\" >4</th>\n",
              "      <td id=\"T_f7adf_row4_col0\" class=\"data row4 col0\" >997.4433</td>\n",
              "      <td id=\"T_f7adf_row4_col1\" class=\"data row4 col1\" >7421936.5364</td>\n",
              "      <td id=\"T_f7adf_row4_col2\" class=\"data row4 col2\" >2724.3231</td>\n",
              "      <td id=\"T_f7adf_row4_col3\" class=\"data row4 col3\" >0.7002</td>\n",
              "      <td id=\"T_f7adf_row4_col4\" class=\"data row4 col4\" >0.2590</td>\n",
              "      <td id=\"T_f7adf_row4_col5\" class=\"data row4 col5\" >0.2085</td>\n",
              "    </tr>\n",
              "    <tr>\n",
              "      <th id=\"T_f7adf_level0_row5\" class=\"row_heading level0 row5\" >5</th>\n",
              "      <td id=\"T_f7adf_row5_col0\" class=\"data row5 col0\" >826.1461</td>\n",
              "      <td id=\"T_f7adf_row5_col1\" class=\"data row5 col1\" >3366001.7199</td>\n",
              "      <td id=\"T_f7adf_row5_col2\" class=\"data row5 col2\" >1834.6667</td>\n",
              "      <td id=\"T_f7adf_row5_col3\" class=\"data row5 col3\" >0.7975</td>\n",
              "      <td id=\"T_f7adf_row5_col4\" class=\"data row5 col4\" >0.2715</td>\n",
              "      <td id=\"T_f7adf_row5_col5\" class=\"data row5 col5\" >0.2197</td>\n",
              "    </tr>\n",
              "    <tr>\n",
              "      <th id=\"T_f7adf_level0_row6\" class=\"row_heading level0 row6\" >6</th>\n",
              "      <td id=\"T_f7adf_row6_col0\" class=\"data row6 col0\" >817.3313</td>\n",
              "      <td id=\"T_f7adf_row6_col1\" class=\"data row6 col1\" >2595870.3560</td>\n",
              "      <td id=\"T_f7adf_row6_col2\" class=\"data row6 col2\" >1611.1705</td>\n",
              "      <td id=\"T_f7adf_row6_col3\" class=\"data row6 col3\" >0.8380</td>\n",
              "      <td id=\"T_f7adf_row6_col4\" class=\"data row6 col4\" >0.2734</td>\n",
              "      <td id=\"T_f7adf_row6_col5\" class=\"data row6 col5\" >0.2066</td>\n",
              "    </tr>\n",
              "    <tr>\n",
              "      <th id=\"T_f7adf_level0_row7\" class=\"row_heading level0 row7\" >7</th>\n",
              "      <td id=\"T_f7adf_row7_col0\" class=\"data row7 col0\" >827.8951</td>\n",
              "      <td id=\"T_f7adf_row7_col1\" class=\"data row7 col1\" >2394531.9757</td>\n",
              "      <td id=\"T_f7adf_row7_col2\" class=\"data row7 col2\" >1547.4275</td>\n",
              "      <td id=\"T_f7adf_row7_col3\" class=\"data row7 col3\" >0.8543</td>\n",
              "      <td id=\"T_f7adf_row7_col4\" class=\"data row7 col4\" >0.2567</td>\n",
              "      <td id=\"T_f7adf_row7_col5\" class=\"data row7 col5\" >0.2145</td>\n",
              "    </tr>\n",
              "    <tr>\n",
              "      <th id=\"T_f7adf_level0_row8\" class=\"row_heading level0 row8\" >8</th>\n",
              "      <td id=\"T_f7adf_row8_col0\" class=\"data row8 col0\" >925.4115</td>\n",
              "      <td id=\"T_f7adf_row8_col1\" class=\"data row8 col1\" >4308242.6806</td>\n",
              "      <td id=\"T_f7adf_row8_col2\" class=\"data row8 col2\" >2075.6307</td>\n",
              "      <td id=\"T_f7adf_row8_col3\" class=\"data row8 col3\" >0.7338</td>\n",
              "      <td id=\"T_f7adf_row8_col4\" class=\"data row8 col4\" >0.2831</td>\n",
              "      <td id=\"T_f7adf_row8_col5\" class=\"data row8 col5\" >0.2371</td>\n",
              "    </tr>\n",
              "    <tr>\n",
              "      <th id=\"T_f7adf_level0_row9\" class=\"row_heading level0 row9\" >9</th>\n",
              "      <td id=\"T_f7adf_row9_col0\" class=\"data row9 col0\" >966.5089</td>\n",
              "      <td id=\"T_f7adf_row9_col1\" class=\"data row9 col1\" >3538111.6382</td>\n",
              "      <td id=\"T_f7adf_row9_col2\" class=\"data row9 col2\" >1880.9869</td>\n",
              "      <td id=\"T_f7adf_row9_col3\" class=\"data row9 col3\" >0.7894</td>\n",
              "      <td id=\"T_f7adf_row9_col4\" class=\"data row9 col4\" >0.2776</td>\n",
              "      <td id=\"T_f7adf_row9_col5\" class=\"data row9 col5\" >0.2357</td>\n",
              "    </tr>\n",
              "    <tr>\n",
              "      <th id=\"T_f7adf_level0_row10\" class=\"row_heading level0 row10\" >Mean</th>\n",
              "      <td id=\"T_f7adf_row10_col0\" class=\"data row10 col0\" >858.8562</td>\n",
              "      <td id=\"T_f7adf_row10_col1\" class=\"data row10 col1\" >3488597.2797</td>\n",
              "      <td id=\"T_f7adf_row10_col2\" class=\"data row10 col2\" >1816.6628</td>\n",
              "      <td id=\"T_f7adf_row10_col3\" class=\"data row10 col3\" >0.8012</td>\n",
              "      <td id=\"T_f7adf_row10_col4\" class=\"data row10 col4\" >0.2666</td>\n",
              "      <td id=\"T_f7adf_row10_col5\" class=\"data row10 col5\" >0.2172</td>\n",
              "    </tr>\n",
              "    <tr>\n",
              "      <th id=\"T_f7adf_level0_row11\" class=\"row_heading level0 row11\" >Std</th>\n",
              "      <td id=\"T_f7adf_row11_col0\" class=\"data row11 col0\" >98.6450</td>\n",
              "      <td id=\"T_f7adf_row11_col1\" class=\"data row11 col1\" >1678537.1762</td>\n",
              "      <td id=\"T_f7adf_row11_col2\" class=\"data row11 col2\" >433.9739</td>\n",
              "      <td id=\"T_f7adf_row11_col3\" class=\"data row11 col3\" >0.0481</td>\n",
              "      <td id=\"T_f7adf_row11_col4\" class=\"data row11 col4\" >0.0149</td>\n",
              "      <td id=\"T_f7adf_row11_col5\" class=\"data row11 col5\" >0.0139</td>\n",
              "    </tr>\n",
              "  </tbody>\n",
              "</table>\n"
            ],
            "text/plain": [
              "<pandas.io.formats.style.Styler at 0x12f52cdf0>"
            ]
          },
          "metadata": {},
          "output_type": "display_data"
        },
        {
          "data": {
            "text/html": [],
            "text/plain": [
              "<IPython.core.display.HTML object>"
            ]
          },
          "metadata": {},
          "output_type": "display_data"
        },
        {
          "name": "stdout",
          "output_type": "stream",
          "text": [
            "Fitting 10 folds for each of 10 candidates, totalling 100 fits\n",
            "Original model was better than the tuned model, hence it will be returned. NOTE: The display metrics are for the tuned model (not the original one).\n"
          ]
        }
      ],
      "source": [
        "tuned_rf = tune_model(rf, optimize='R2')"
      ]
    },
    {
      "cell_type": "markdown",
      "metadata": {},
      "source": [
        "# Evaluation\n"
      ]
    },
    {
      "cell_type": "code",
      "execution_count": 17,
      "metadata": {},
      "outputs": [
        {
          "data": {
            "application/vnd.jupyter.widget-view+json": {
              "model_id": "99cf38ed367e4b3ea162a0ddd0584a02",
              "version_major": 2,
              "version_minor": 0
            },
            "text/plain": [
              "interactive(children=(ToggleButtons(description='Plot Type:', icons=('',), options=(('Pipeline Plot', 'pipelin…"
            ]
          },
          "metadata": {},
          "output_type": "display_data"
        }
      ],
      "source": [
        "# Evaluating the model\n",
        "evaluate_model(tuned_rf)"
      ]
    },
    {
      "cell_type": "markdown",
      "metadata": {},
      "source": [
        "### Prediction with training data"
      ]
    },
    {
      "cell_type": "code",
      "execution_count": 18,
      "metadata": {},
      "outputs": [
        {
          "data": {
            "text/html": [
              "<style type=\"text/css\">\n",
              "</style>\n",
              "<table id=\"T_6ee5d\">\n",
              "  <thead>\n",
              "    <tr>\n",
              "      <th class=\"blank level0\" >&nbsp;</th>\n",
              "      <th id=\"T_6ee5d_level0_col0\" class=\"col_heading level0 col0\" >Model</th>\n",
              "      <th id=\"T_6ee5d_level0_col1\" class=\"col_heading level0 col1\" >MAE</th>\n",
              "      <th id=\"T_6ee5d_level0_col2\" class=\"col_heading level0 col2\" >MSE</th>\n",
              "      <th id=\"T_6ee5d_level0_col3\" class=\"col_heading level0 col3\" >RMSE</th>\n",
              "      <th id=\"T_6ee5d_level0_col4\" class=\"col_heading level0 col4\" >R2</th>\n",
              "      <th id=\"T_6ee5d_level0_col5\" class=\"col_heading level0 col5\" >RMSLE</th>\n",
              "      <th id=\"T_6ee5d_level0_col6\" class=\"col_heading level0 col6\" >MAPE</th>\n",
              "    </tr>\n",
              "  </thead>\n",
              "  <tbody>\n",
              "    <tr>\n",
              "      <th id=\"T_6ee5d_level0_row0\" class=\"row_heading level0 row0\" >0</th>\n",
              "      <td id=\"T_6ee5d_row0_col0\" class=\"data row0 col0\" >Random Forest Regressor</td>\n",
              "      <td id=\"T_6ee5d_row0_col1\" class=\"data row0 col1\" >738.4063</td>\n",
              "      <td id=\"T_6ee5d_row0_col2\" class=\"data row0 col2\" >2539305.3609</td>\n",
              "      <td id=\"T_6ee5d_row0_col3\" class=\"data row0 col3\" >1593.5198</td>\n",
              "      <td id=\"T_6ee5d_row0_col4\" class=\"data row0 col4\" >0.8386</td>\n",
              "      <td id=\"T_6ee5d_row0_col5\" class=\"data row0 col5\" >0.2342</td>\n",
              "      <td id=\"T_6ee5d_row0_col6\" class=\"data row0 col6\" >0.1848</td>\n",
              "    </tr>\n",
              "  </tbody>\n",
              "</table>\n"
            ],
            "text/plain": [
              "<pandas.io.formats.style.Styler at 0x12fa918a0>"
            ]
          },
          "metadata": {},
          "output_type": "display_data"
        },
        {
          "data": {
            "text/html": [
              "<div>\n",
              "<style scoped>\n",
              "    .dataframe tbody tr th:only-of-type {\n",
              "        vertical-align: middle;\n",
              "    }\n",
              "\n",
              "    .dataframe tbody tr th {\n",
              "        vertical-align: top;\n",
              "    }\n",
              "\n",
              "    .dataframe thead th {\n",
              "        text-align: right;\n",
              "    }\n",
              "</style>\n",
              "<table border=\"1\" class=\"dataframe\">\n",
              "  <thead>\n",
              "    <tr style=\"text-align: right;\">\n",
              "      <th></th>\n",
              "      <th>Size</th>\n",
              "      <th>Rooms</th>\n",
              "      <th>Toilets</th>\n",
              "      <th>Suites</th>\n",
              "      <th>Parking</th>\n",
              "      <th>Elevator</th>\n",
              "      <th>Furnished</th>\n",
              "      <th>Swimming Pool</th>\n",
              "      <th>New</th>\n",
              "      <th>District</th>\n",
              "      <th>total_price</th>\n",
              "      <th>prediction_label</th>\n",
              "    </tr>\n",
              "  </thead>\n",
              "  <tbody>\n",
              "    <tr>\n",
              "      <th>4027</th>\n",
              "      <td>76</td>\n",
              "      <td>3</td>\n",
              "      <td>1</td>\n",
              "      <td>0</td>\n",
              "      <td>2</td>\n",
              "      <td>0</td>\n",
              "      <td>0</td>\n",
              "      <td>1</td>\n",
              "      <td>0</td>\n",
              "      <td>Saúde/São Paulo</td>\n",
              "      <td>3585</td>\n",
              "      <td>3546.643333</td>\n",
              "    </tr>\n",
              "    <tr>\n",
              "      <th>10152</th>\n",
              "      <td>71</td>\n",
              "      <td>3</td>\n",
              "      <td>2</td>\n",
              "      <td>1</td>\n",
              "      <td>1</td>\n",
              "      <td>1</td>\n",
              "      <td>0</td>\n",
              "      <td>1</td>\n",
              "      <td>0</td>\n",
              "      <td>Lapa/São Paulo</td>\n",
              "      <td>3070</td>\n",
              "      <td>2980.612000</td>\n",
              "    </tr>\n",
              "    <tr>\n",
              "      <th>1121</th>\n",
              "      <td>70</td>\n",
              "      <td>3</td>\n",
              "      <td>2</td>\n",
              "      <td>1</td>\n",
              "      <td>1</td>\n",
              "      <td>0</td>\n",
              "      <td>1</td>\n",
              "      <td>1</td>\n",
              "      <td>0</td>\n",
              "      <td>Jabaquara/São Paulo</td>\n",
              "      <td>3328</td>\n",
              "      <td>2448.090000</td>\n",
              "    </tr>\n",
              "    <tr>\n",
              "      <th>9858</th>\n",
              "      <td>54</td>\n",
              "      <td>2</td>\n",
              "      <td>2</td>\n",
              "      <td>1</td>\n",
              "      <td>2</td>\n",
              "      <td>0</td>\n",
              "      <td>0</td>\n",
              "      <td>1</td>\n",
              "      <td>0</td>\n",
              "      <td>Campo Limpo/São Paulo</td>\n",
              "      <td>1781</td>\n",
              "      <td>1951.326667</td>\n",
              "    </tr>\n",
              "    <tr>\n",
              "      <th>10495</th>\n",
              "      <td>70</td>\n",
              "      <td>2</td>\n",
              "      <td>1</td>\n",
              "      <td>0</td>\n",
              "      <td>1</td>\n",
              "      <td>0</td>\n",
              "      <td>0</td>\n",
              "      <td>0</td>\n",
              "      <td>0</td>\n",
              "      <td>Cambuci/São Paulo</td>\n",
              "      <td>1810</td>\n",
              "      <td>1866.505000</td>\n",
              "    </tr>\n",
              "    <tr>\n",
              "      <th>...</th>\n",
              "      <td>...</td>\n",
              "      <td>...</td>\n",
              "      <td>...</td>\n",
              "      <td>...</td>\n",
              "      <td>...</td>\n",
              "      <td>...</td>\n",
              "      <td>...</td>\n",
              "      <td>...</td>\n",
              "      <td>...</td>\n",
              "      <td>...</td>\n",
              "      <td>...</td>\n",
              "      <td>...</td>\n",
              "    </tr>\n",
              "    <tr>\n",
              "      <th>2630</th>\n",
              "      <td>49</td>\n",
              "      <td>1</td>\n",
              "      <td>1</td>\n",
              "      <td>0</td>\n",
              "      <td>1</td>\n",
              "      <td>0</td>\n",
              "      <td>1</td>\n",
              "      <td>1</td>\n",
              "      <td>0</td>\n",
              "      <td>Casa Verde/São Paulo</td>\n",
              "      <td>2868</td>\n",
              "      <td>2960.160378</td>\n",
              "    </tr>\n",
              "    <tr>\n",
              "      <th>1062</th>\n",
              "      <td>127</td>\n",
              "      <td>3</td>\n",
              "      <td>4</td>\n",
              "      <td>3</td>\n",
              "      <td>2</td>\n",
              "      <td>1</td>\n",
              "      <td>1</td>\n",
              "      <td>1</td>\n",
              "      <td>0</td>\n",
              "      <td>Ipiranga/São Paulo</td>\n",
              "      <td>5730</td>\n",
              "      <td>5485.766667</td>\n",
              "    </tr>\n",
              "    <tr>\n",
              "      <th>1980</th>\n",
              "      <td>65</td>\n",
              "      <td>2</td>\n",
              "      <td>2</td>\n",
              "      <td>1</td>\n",
              "      <td>2</td>\n",
              "      <td>0</td>\n",
              "      <td>0</td>\n",
              "      <td>0</td>\n",
              "      <td>0</td>\n",
              "      <td>Pinheiros/São Paulo</td>\n",
              "      <td>4950</td>\n",
              "      <td>4890.060000</td>\n",
              "    </tr>\n",
              "    <tr>\n",
              "      <th>11145</th>\n",
              "      <td>205</td>\n",
              "      <td>4</td>\n",
              "      <td>6</td>\n",
              "      <td>4</td>\n",
              "      <td>4</td>\n",
              "      <td>1</td>\n",
              "      <td>1</td>\n",
              "      <td>1</td>\n",
              "      <td>0</td>\n",
              "      <td>Brooklin/São Paulo</td>\n",
              "      <td>17500</td>\n",
              "      <td>19402.176667</td>\n",
              "    </tr>\n",
              "    <tr>\n",
              "      <th>10117</th>\n",
              "      <td>81</td>\n",
              "      <td>3</td>\n",
              "      <td>2</td>\n",
              "      <td>1</td>\n",
              "      <td>1</td>\n",
              "      <td>1</td>\n",
              "      <td>0</td>\n",
              "      <td>1</td>\n",
              "      <td>0</td>\n",
              "      <td>Freguesia do Ó/São Paulo</td>\n",
              "      <td>2450</td>\n",
              "      <td>2621.381000</td>\n",
              "    </tr>\n",
              "  </tbody>\n",
              "</table>\n",
              "<p>1735 rows × 12 columns</p>\n",
              "</div>"
            ],
            "text/plain": [
              "       Size  Rooms  Toilets  Suites  Parking  Elevator  Furnished  \\\n",
              "4027     76      3        1       0        2         0          0   \n",
              "10152    71      3        2       1        1         1          0   \n",
              "1121     70      3        2       1        1         0          1   \n",
              "9858     54      2        2       1        2         0          0   \n",
              "10495    70      2        1       0        1         0          0   \n",
              "...     ...    ...      ...     ...      ...       ...        ...   \n",
              "2630     49      1        1       0        1         0          1   \n",
              "1062    127      3        4       3        2         1          1   \n",
              "1980     65      2        2       1        2         0          0   \n",
              "11145   205      4        6       4        4         1          1   \n",
              "10117    81      3        2       1        1         1          0   \n",
              "\n",
              "       Swimming Pool  New                  District  total_price  \\\n",
              "4027               1    0           Saúde/São Paulo         3585   \n",
              "10152              1    0            Lapa/São Paulo         3070   \n",
              "1121               1    0       Jabaquara/São Paulo         3328   \n",
              "9858               1    0     Campo Limpo/São Paulo         1781   \n",
              "10495              0    0         Cambuci/São Paulo         1810   \n",
              "...              ...  ...                       ...          ...   \n",
              "2630               1    0      Casa Verde/São Paulo         2868   \n",
              "1062               1    0        Ipiranga/São Paulo         5730   \n",
              "1980               0    0       Pinheiros/São Paulo         4950   \n",
              "11145              1    0        Brooklin/São Paulo        17500   \n",
              "10117              1    0  Freguesia do Ó/São Paulo         2450   \n",
              "\n",
              "       prediction_label  \n",
              "4027        3546.643333  \n",
              "10152       2980.612000  \n",
              "1121        2448.090000  \n",
              "9858        1951.326667  \n",
              "10495       1866.505000  \n",
              "...                 ...  \n",
              "2630        2960.160378  \n",
              "1062        5485.766667  \n",
              "1980        4890.060000  \n",
              "11145      19402.176667  \n",
              "10117       2621.381000  \n",
              "\n",
              "[1735 rows x 12 columns]"
            ]
          },
          "execution_count": 18,
          "metadata": {},
          "output_type": "execute_result"
        }
      ],
      "source": [
        "# Making the predictions\n",
        "predict_model(tuned_rf)"
      ]
    },
    {
      "cell_type": "markdown",
      "metadata": {},
      "source": [
        "The model achieved an **R² score of 0.8386**, which is within the expected range. However, this result was obtained **using the training data**. We will now finalize the model and perform the final test."
      ]
    },
    {
      "cell_type": "markdown",
      "metadata": {},
      "source": [
        "### Finalizing the model"
      ]
    },
    {
      "cell_type": "code",
      "execution_count": 19,
      "metadata": {},
      "outputs": [],
      "source": [
        "# Finalizing the model\n",
        "final_rf= finalize_model(tuned_rf)"
      ]
    },
    {
      "cell_type": "code",
      "execution_count": 20,
      "metadata": {},
      "outputs": [
        {
          "name": "stdout",
          "output_type": "stream",
          "text": [
            "Pipeline(memory=Memory(location=None),\n",
            "         steps=[('numerical_imputer',\n",
            "                 TransformerWrapper(include=['Size', 'Rooms', 'Toilets',\n",
            "                                             'Suites', 'Parking', 'Elevator',\n",
            "                                             'Furnished', 'Swimming Pool',\n",
            "                                             'New'],\n",
            "                                    transformer=SimpleImputer())),\n",
            "                ('categorical_imputer',\n",
            "                 TransformerWrapper(include=['District'],\n",
            "                                    transformer=SimpleImputer(strategy='most_frequent'))),\n",
            "                ('rest_encoding',\n",
            "                 TransformerWrapper(include=['District'],\n",
            "                                    transformer=TargetEncoder(cols=['District'],\n",
            "                                                              handle_missing='return_nan'))),\n",
            "                ('normalize', TransformerWrapper(transformer=StandardScaler())),\n",
            "                ('clean_column_names',\n",
            "                 TransformerWrapper(transformer=CleanColumnNames())),\n",
            "                ('actual_estimator',\n",
            "                 RandomForestRegressor(n_jobs=-1, random_state=2025))])\n"
          ]
        }
      ],
      "source": [
        "# Checking the parameters\n",
        "print(final_rf)"
      ]
    },
    {
      "cell_type": "markdown",
      "metadata": {},
      "source": [
        "### Predicting on new data"
      ]
    },
    {
      "cell_type": "code",
      "execution_count": 21,
      "metadata": {},
      "outputs": [
        {
          "data": {
            "text/html": [
              "<style type=\"text/css\">\n",
              "</style>\n",
              "<table id=\"T_36c1a\">\n",
              "  <thead>\n",
              "    <tr>\n",
              "      <th class=\"blank level0\" >&nbsp;</th>\n",
              "      <th id=\"T_36c1a_level0_col0\" class=\"col_heading level0 col0\" >Model</th>\n",
              "      <th id=\"T_36c1a_level0_col1\" class=\"col_heading level0 col1\" >MAE</th>\n",
              "      <th id=\"T_36c1a_level0_col2\" class=\"col_heading level0 col2\" >MSE</th>\n",
              "      <th id=\"T_36c1a_level0_col3\" class=\"col_heading level0 col3\" >RMSE</th>\n",
              "      <th id=\"T_36c1a_level0_col4\" class=\"col_heading level0 col4\" >R2</th>\n",
              "      <th id=\"T_36c1a_level0_col5\" class=\"col_heading level0 col5\" >RMSLE</th>\n",
              "      <th id=\"T_36c1a_level0_col6\" class=\"col_heading level0 col6\" >MAPE</th>\n",
              "    </tr>\n",
              "  </thead>\n",
              "  <tbody>\n",
              "    <tr>\n",
              "      <th id=\"T_36c1a_level0_row0\" class=\"row_heading level0 row0\" >0</th>\n",
              "      <td id=\"T_36c1a_row0_col0\" class=\"data row0 col0\" >Random Forest Regressor</td>\n",
              "      <td id=\"T_36c1a_row0_col1\" class=\"data row0 col1\" >814.0294</td>\n",
              "      <td id=\"T_36c1a_row0_col2\" class=\"data row0 col2\" >3420995.3372</td>\n",
              "      <td id=\"T_36c1a_row0_col3\" class=\"data row0 col3\" >1849.5933</td>\n",
              "      <td id=\"T_36c1a_row0_col4\" class=\"data row0 col4\" >0.8279</td>\n",
              "      <td id=\"T_36c1a_row0_col5\" class=\"data row0 col5\" >0.2410</td>\n",
              "      <td id=\"T_36c1a_row0_col6\" class=\"data row0 col6\" >0.1824</td>\n",
              "    </tr>\n",
              "  </tbody>\n",
              "</table>\n"
            ],
            "text/plain": [
              "<pandas.io.formats.style.Styler at 0x124a86020>"
            ]
          },
          "metadata": {},
          "output_type": "display_data"
        }
      ],
      "source": [
        "# Making Predictions with Unseen Data (test set)\n",
        "unseen_predictions = predict_model(final_rf, data=df_test)\n"
      ]
    },
    {
      "cell_type": "code",
      "execution_count": 22,
      "metadata": {},
      "outputs": [
        {
          "data": {
            "text/html": [
              "<div>\n",
              "<style scoped>\n",
              "    .dataframe tbody tr th:only-of-type {\n",
              "        vertical-align: middle;\n",
              "    }\n",
              "\n",
              "    .dataframe tbody tr th {\n",
              "        vertical-align: top;\n",
              "    }\n",
              "\n",
              "    .dataframe thead th {\n",
              "        text-align: right;\n",
              "    }\n",
              "</style>\n",
              "<table border=\"1\" class=\"dataframe\">\n",
              "  <thead>\n",
              "    <tr style=\"text-align: right;\">\n",
              "      <th></th>\n",
              "      <th>Size</th>\n",
              "      <th>Rooms</th>\n",
              "      <th>Toilets</th>\n",
              "      <th>Suites</th>\n",
              "      <th>Parking</th>\n",
              "      <th>Elevator</th>\n",
              "      <th>Furnished</th>\n",
              "      <th>Swimming Pool</th>\n",
              "      <th>New</th>\n",
              "      <th>District</th>\n",
              "      <th>total_price</th>\n",
              "      <th>prediction_label</th>\n",
              "    </tr>\n",
              "  </thead>\n",
              "  <tbody>\n",
              "    <tr>\n",
              "      <th>2020</th>\n",
              "      <td>45</td>\n",
              "      <td>2</td>\n",
              "      <td>2</td>\n",
              "      <td>1</td>\n",
              "      <td>1</td>\n",
              "      <td>0</td>\n",
              "      <td>0</td>\n",
              "      <td>0</td>\n",
              "      <td>0</td>\n",
              "      <td>Pirituba/São Paulo</td>\n",
              "      <td>1399</td>\n",
              "      <td>1247.585000</td>\n",
              "    </tr>\n",
              "    <tr>\n",
              "      <th>10852</th>\n",
              "      <td>65</td>\n",
              "      <td>2</td>\n",
              "      <td>2</td>\n",
              "      <td>0</td>\n",
              "      <td>1</td>\n",
              "      <td>0</td>\n",
              "      <td>0</td>\n",
              "      <td>1</td>\n",
              "      <td>0</td>\n",
              "      <td>Butantã/São Paulo</td>\n",
              "      <td>2610</td>\n",
              "      <td>2300.281667</td>\n",
              "    </tr>\n",
              "    <tr>\n",
              "      <th>3043</th>\n",
              "      <td>64</td>\n",
              "      <td>2</td>\n",
              "      <td>2</td>\n",
              "      <td>1</td>\n",
              "      <td>1</td>\n",
              "      <td>0</td>\n",
              "      <td>0</td>\n",
              "      <td>1</td>\n",
              "      <td>0</td>\n",
              "      <td>Carrão/São Paulo</td>\n",
              "      <td>2517</td>\n",
              "      <td>2088.310000</td>\n",
              "    </tr>\n",
              "    <tr>\n",
              "      <th>9391</th>\n",
              "      <td>55</td>\n",
              "      <td>1</td>\n",
              "      <td>2</td>\n",
              "      <td>1</td>\n",
              "      <td>1</td>\n",
              "      <td>1</td>\n",
              "      <td>0</td>\n",
              "      <td>0</td>\n",
              "      <td>0</td>\n",
              "      <td>Santana/São Paulo</td>\n",
              "      <td>1530</td>\n",
              "      <td>1842.501667</td>\n",
              "    </tr>\n",
              "    <tr>\n",
              "      <th>1383</th>\n",
              "      <td>45</td>\n",
              "      <td>1</td>\n",
              "      <td>2</td>\n",
              "      <td>1</td>\n",
              "      <td>1</td>\n",
              "      <td>1</td>\n",
              "      <td>1</td>\n",
              "      <td>1</td>\n",
              "      <td>0</td>\n",
              "      <td>Saúde/São Paulo</td>\n",
              "      <td>2500</td>\n",
              "      <td>3197.003333</td>\n",
              "    </tr>\n",
              "  </tbody>\n",
              "</table>\n",
              "</div>"
            ],
            "text/plain": [
              "       Size  Rooms  Toilets  Suites  Parking  Elevator  Furnished  \\\n",
              "2020     45      2        2       1        1         0          0   \n",
              "10852    65      2        2       0        1         0          0   \n",
              "3043     64      2        2       1        1         0          0   \n",
              "9391     55      1        2       1        1         1          0   \n",
              "1383     45      1        2       1        1         1          1   \n",
              "\n",
              "       Swimming Pool  New            District  total_price  prediction_label  \n",
              "2020               0    0  Pirituba/São Paulo         1399       1247.585000  \n",
              "10852              1    0   Butantã/São Paulo         2610       2300.281667  \n",
              "3043               1    0    Carrão/São Paulo         2517       2088.310000  \n",
              "9391               0    0   Santana/São Paulo         1530       1842.501667  \n",
              "1383               1    0     Saúde/São Paulo         2500       3197.003333  "
            ]
          },
          "execution_count": 22,
          "metadata": {},
          "output_type": "execute_result"
        }
      ],
      "source": [
        "unseen_predictions.head()"
      ]
    },
    {
      "cell_type": "markdown",
      "metadata": {},
      "source": [
        " After testing with unseen data, the **R² score was 0.8279**, indicating that **the model performs well on new data and generalizes effectively**. This result demonstrates the model's robustness and its potential for accurate rental price predictions in real-world scenarios. The next step will be to **deploy the model** and integrate it into the application for practical use."
      ]
    },
    {
      "cell_type": "markdown",
      "metadata": {},
      "source": [
        "### Saving the model"
      ]
    },
    {
      "cell_type": "code",
      "execution_count": 23,
      "metadata": {},
      "outputs": [
        {
          "name": "stdout",
          "output_type": "stream",
          "text": [
            "Transformation Pipeline and Model Successfully Saved\n"
          ]
        },
        {
          "data": {
            "text/plain": [
              "(Pipeline(memory=Memory(location=None),\n",
              "          steps=[('numerical_imputer',\n",
              "                  TransformerWrapper(include=['Size', 'Rooms', 'Toilets',\n",
              "                                              'Suites', 'Parking', 'Elevator',\n",
              "                                              'Furnished', 'Swimming Pool',\n",
              "                                              'New'],\n",
              "                                     transformer=SimpleImputer())),\n",
              "                 ('categorical_imputer',\n",
              "                  TransformerWrapper(include=['District'],\n",
              "                                     transformer=SimpleImputer(strategy='most_frequent'))),\n",
              "                 ('rest_encoding',\n",
              "                  TransformerWrapper(include=['District'],\n",
              "                                     transformer=TargetEncoder(cols=['District'],\n",
              "                                                               handle_missing='return_nan'))),\n",
              "                 ('normalize', TransformerWrapper(transformer=StandardScaler())),\n",
              "                 ('clean_column_names',\n",
              "                  TransformerWrapper(transformer=CleanColumnNames())),\n",
              "                 ('actual_estimator',\n",
              "                  RandomForestRegressor(n_jobs=-1, random_state=2025))]),\n",
              " 'model/Final_Model.pkl')"
            ]
          },
          "execution_count": 23,
          "metadata": {},
          "output_type": "execute_result"
        }
      ],
      "source": [
        "save_model(final_rf,'model/Final_Model')"
      ]
    },
    {
      "cell_type": "markdown",
      "metadata": {},
      "source": [
        "# Deployment"
      ]
    },
    {
      "cell_type": "markdown",
      "metadata": {},
      "source": [
        "### Retrieving information needed for web application"
      ]
    },
    {
      "cell_type": "markdown",
      "metadata": {},
      "source": [
        "First, we get the name of all the variables that will be entered by the user."
      ]
    },
    {
      "cell_type": "code",
      "execution_count": 29,
      "metadata": {},
      "outputs": [
        {
          "name": "stdout",
          "output_type": "stream",
          "text": [
            "['Size', 'Rooms', 'Toilets', 'Suites', 'Parking', 'Elevator', 'Furnished', 'Swimming Pool', 'New', 'District']\n"
          ]
        }
      ],
      "source": [
        "from pycaret.regression import get_config\n",
        "\n",
        "# Get the input DataFrame (features used in training)\n",
        "X = get_config('X')\n",
        "\n",
        "input_features = X.columns.tolist()\n",
        "print(input_features)"
      ]
    },
    {
      "cell_type": "markdown",
      "metadata": {},
      "source": [
        "Checking the name of all existing districts in the database, to appear as a selection option\n"
      ]
    },
    {
      "cell_type": "code",
      "execution_count": 27,
      "metadata": {},
      "outputs": [
        {
          "name": "stdout",
          "output_type": "stream",
          "text": [
            "<option value=\"Alto de Pinheiros/São Paulo\">Alto de Pinheiros/São Paulo</option>\n",
            "<option value=\"Anhanguera/São Paulo\">Anhanguera/São Paulo</option>\n",
            "<option value=\"Aricanduva/São Paulo\">Aricanduva/São Paulo</option>\n",
            "<option value=\"Artur Alvim/São Paulo\">Artur Alvim/São Paulo</option>\n",
            "<option value=\"Barra Funda/São Paulo\">Barra Funda/São Paulo</option>\n",
            "<option value=\"Bela Vista/São Paulo\">Bela Vista/São Paulo</option>\n",
            "<option value=\"Belém/São Paulo\">Belém/São Paulo</option>\n",
            "<option value=\"Bom Retiro/São Paulo\">Bom Retiro/São Paulo</option>\n",
            "<option value=\"Brasilândia/São Paulo\">Brasilândia/São Paulo</option>\n",
            "<option value=\"Brooklin/São Paulo\">Brooklin/São Paulo</option>\n",
            "<option value=\"Brás/São Paulo\">Brás/São Paulo</option>\n",
            "<option value=\"Butantã/São Paulo\">Butantã/São Paulo</option>\n",
            "<option value=\"Cachoeirinha/São Paulo\">Cachoeirinha/São Paulo</option>\n",
            "<option value=\"Cambuci/São Paulo\">Cambuci/São Paulo</option>\n",
            "<option value=\"Campo Belo/São Paulo\">Campo Belo/São Paulo</option>\n",
            "<option value=\"Campo Grande/São Paulo\">Campo Grande/São Paulo</option>\n",
            "<option value=\"Campo Limpo/São Paulo\">Campo Limpo/São Paulo</option>\n",
            "<option value=\"Cangaíba/São Paulo\">Cangaíba/São Paulo</option>\n",
            "<option value=\"Capão Redondo/São Paulo\">Capão Redondo/São Paulo</option>\n",
            "<option value=\"Carrão/São Paulo\">Carrão/São Paulo</option>\n",
            "<option value=\"Casa Verde/São Paulo\">Casa Verde/São Paulo</option>\n",
            "<option value=\"Cidade Ademar/São Paulo\">Cidade Ademar/São Paulo</option>\n",
            "<option value=\"Cidade Dutra/São Paulo\">Cidade Dutra/São Paulo</option>\n",
            "<option value=\"Cidade Líder/São Paulo\">Cidade Líder/São Paulo</option>\n",
            "<option value=\"Cidade Tiradentes/São Paulo\">Cidade Tiradentes/São Paulo</option>\n",
            "<option value=\"Consolação/São Paulo\">Consolação/São Paulo</option>\n",
            "<option value=\"Cursino/São Paulo\">Cursino/São Paulo</option>\n",
            "<option value=\"Ermelino Matarazzo/São Paulo\">Ermelino Matarazzo/São Paulo</option>\n",
            "<option value=\"Freguesia do Ó/São Paulo\">Freguesia do Ó/São Paulo</option>\n",
            "<option value=\"Grajaú/São Paulo\">Grajaú/São Paulo</option>\n",
            "<option value=\"Guaianazes/São Paulo\">Guaianazes/São Paulo</option>\n",
            "<option value=\"Iguatemi/São Paulo\">Iguatemi/São Paulo</option>\n",
            "<option value=\"Ipiranga/São Paulo\">Ipiranga/São Paulo</option>\n",
            "<option value=\"Itaim Bibi/São Paulo\">Itaim Bibi/São Paulo</option>\n",
            "<option value=\"Itaim Paulista/São Paulo\">Itaim Paulista/São Paulo</option>\n",
            "<option value=\"Itaquera/São Paulo\">Itaquera/São Paulo</option>\n",
            "<option value=\"Jabaquara/São Paulo\">Jabaquara/São Paulo</option>\n",
            "<option value=\"Jaguaré/São Paulo\">Jaguaré/São Paulo</option>\n",
            "<option value=\"Jaraguá/São Paulo\">Jaraguá/São Paulo</option>\n",
            "<option value=\"Jardim Helena/São Paulo\">Jardim Helena/São Paulo</option>\n",
            "<option value=\"Jardim Paulista/São Paulo\">Jardim Paulista/São Paulo</option>\n",
            "<option value=\"Jardim São Luis/São Paulo\">Jardim São Luis/São Paulo</option>\n",
            "<option value=\"Jardim Ângela/São Paulo\">Jardim Ângela/São Paulo</option>\n",
            "<option value=\"Jaçanã/São Paulo\">Jaçanã/São Paulo</option>\n",
            "<option value=\"José Bonifácio/São Paulo\">José Bonifácio/São Paulo</option>\n",
            "<option value=\"Lajeado/São Paulo\">Lajeado/São Paulo</option>\n",
            "<option value=\"Lapa/São Paulo\">Lapa/São Paulo</option>\n",
            "<option value=\"Liberdade/São Paulo\">Liberdade/São Paulo</option>\n",
            "<option value=\"Limão/São Paulo\">Limão/São Paulo</option>\n",
            "<option value=\"Mandaqui/São Paulo\">Mandaqui/São Paulo</option>\n",
            "<option value=\"Medeiros/São Paulo\">Medeiros/São Paulo</option>\n",
            "<option value=\"Moema/São Paulo\">Moema/São Paulo</option>\n",
            "<option value=\"Mooca/São Paulo\">Mooca/São Paulo</option>\n",
            "<option value=\"Morumbi/São Paulo\">Morumbi/São Paulo</option>\n",
            "<option value=\"Pari/São Paulo\">Pari/São Paulo</option>\n",
            "<option value=\"Parque do Carmo/São Paulo\">Parque do Carmo/São Paulo</option>\n",
            "<option value=\"Pedreira/São Paulo\">Pedreira/São Paulo</option>\n",
            "<option value=\"Penha/São Paulo\">Penha/São Paulo</option>\n",
            "<option value=\"Perdizes/São Paulo\">Perdizes/São Paulo</option>\n",
            "<option value=\"Pinheiros/São Paulo\">Pinheiros/São Paulo</option>\n",
            "<option value=\"Pirituba/São Paulo\">Pirituba/São Paulo</option>\n",
            "<option value=\"Ponte Rasa/São Paulo\">Ponte Rasa/São Paulo</option>\n",
            "<option value=\"Raposo Tavares/São Paulo\">Raposo Tavares/São Paulo</option>\n",
            "<option value=\"República/São Paulo\">República/São Paulo</option>\n",
            "<option value=\"Rio Pequeno/São Paulo\">Rio Pequeno/São Paulo</option>\n",
            "<option value=\"Sacomã/São Paulo\">Sacomã/São Paulo</option>\n",
            "<option value=\"Santa Cecília/São Paulo\">Santa Cecília/São Paulo</option>\n",
            "<option value=\"Santana/São Paulo\">Santana/São Paulo</option>\n",
            "<option value=\"Santo Amaro/São Paulo\">Santo Amaro/São Paulo</option>\n",
            "<option value=\"Sapopemba/São Paulo\">Sapopemba/São Paulo</option>\n",
            "<option value=\"Saúde/São Paulo\">Saúde/São Paulo</option>\n",
            "<option value=\"Socorro/São Paulo\">Socorro/São Paulo</option>\n",
            "<option value=\"São Lucas/São Paulo\">São Lucas/São Paulo</option>\n",
            "<option value=\"São Mateus/São Paulo\">São Mateus/São Paulo</option>\n",
            "<option value=\"São Miguel/São Paulo\">São Miguel/São Paulo</option>\n",
            "<option value=\"São Rafael/São Paulo\">São Rafael/São Paulo</option>\n",
            "<option value=\"Sé/São Paulo\">Sé/São Paulo</option>\n",
            "<option value=\"Tatuapé/São Paulo\">Tatuapé/São Paulo</option>\n",
            "<option value=\"Tremembé/São Paulo\">Tremembé/São Paulo</option>\n",
            "<option value=\"Tucuruvi/São Paulo\">Tucuruvi/São Paulo</option>\n",
            "<option value=\"Vila Andrade/São Paulo\">Vila Andrade/São Paulo</option>\n",
            "<option value=\"Vila Curuçá/São Paulo\">Vila Curuçá/São Paulo</option>\n",
            "<option value=\"Vila Formosa/São Paulo\">Vila Formosa/São Paulo</option>\n",
            "<option value=\"Vila Guilherme/São Paulo\">Vila Guilherme/São Paulo</option>\n",
            "<option value=\"Vila Jacuí/São Paulo\">Vila Jacuí/São Paulo</option>\n",
            "<option value=\"Vila Leopoldina/São Paulo\">Vila Leopoldina/São Paulo</option>\n",
            "<option value=\"Vila Madalena/São Paulo\">Vila Madalena/São Paulo</option>\n",
            "<option value=\"Vila Maria/São Paulo\">Vila Maria/São Paulo</option>\n",
            "<option value=\"Vila Mariana/São Paulo\">Vila Mariana/São Paulo</option>\n",
            "<option value=\"Vila Matilde/São Paulo\">Vila Matilde/São Paulo</option>\n",
            "<option value=\"Vila Olimpia/São Paulo\">Vila Olimpia/São Paulo</option>\n",
            "<option value=\"Vila Prudente/São Paulo\">Vila Prudente/São Paulo</option>\n",
            "<option value=\"Vila Sônia/São Paulo\">Vila Sônia/São Paulo</option>\n",
            "<option value=\"Água Rasa/São Paulo\">Água Rasa/São Paulo</option>\n"
          ]
        }
      ],
      "source": [
        "# List unique districts in alphabetical order\n",
        "distritos_unicos = sorted(df['District'].dropna().unique())\n",
        "\n",
        "# generating the code for the html file:\n",
        "for d in distritos_unicos:\n",
        "    print(f'<option value=\"{d}\">{d}</option>')"
      ]
    },
    {
      "cell_type": "markdown",
      "metadata": {},
      "source": [
        "Checking the maximum and minimum values ​​of each input variable, to serve as limits in user selectors"
      ]
    },
    {
      "cell_type": "code",
      "execution_count": 30,
      "metadata": {},
      "outputs": [
        {
          "name": "stdout",
          "output_type": "stream",
          "text": [
            "Size: Minimum = 30, Maximum = 880\n",
            "Rooms: Minimum = 1, Maximum = 10\n",
            "Toilets: Minimum = 1, Maximum = 8\n",
            "Suites: Minimum = 0, Maximum = 5\n",
            "Parking: Minimum = 0, Maximum = 9\n"
          ]
        }
      ],
      "source": [
        "\n",
        "# List of variables to analyze\n",
        "cols = ['Size', 'Rooms', 'Toilets', 'Suites', 'Parking']\n",
        "\n",
        "# Loop through each column and print min and max values\n",
        "for col in cols:\n",
        "    min_val = df[col].min()\n",
        "    max_val = df[col].max()\n",
        "    print(f\"{col}: Minimum = {min_val}, Maximum = {max_val}\")"
      ]
    },
    {
      "cell_type": "markdown",
      "metadata": {},
      "source": [
        "### Explanation of development"
      ]
    },
    {
      "cell_type": "markdown",
      "metadata": {},
      "source": [
        "After training and validating the Machine Learning model, the deployment stage was carried out with the aim of making the application accessible via a web browser."
      ]
    },
    {
      "cell_type": "markdown",
      "metadata": {},
      "source": [
        "📦 Backend with Flask\n",
        "\n",
        "A backend was created using the Flask microframework, responsible for receiving the data entered by the user, performing pre-processing and generating the prediction based on the trained model.\n",
        "\n",
        "The main *app.py* file loads the model and defines the application routes"
      ]
    },
    {
      "cell_type": "markdown",
      "metadata": {},
      "source": [
        "☁️ Hosting with Heroku\n",
        "\n",
        "To make the application accessible online, it was hosted in the cloud using the Heroku platform. The following files were configured:\n",
        "\n",
        "*requirements.txt*: lists the project dependencies\n",
        "*Procfile*: defines the Flask application startup command\n",
        "*runtime.txt*: specifies the Python version used"
      ]
    },
    {
      "cell_type": "markdown",
      "metadata": {},
      "source": [
        "### The final application is available at: https://rent-predict-sp-b372d5fb9a82.herokuapp.com"
      ]
    },
    {
      "cell_type": "markdown",
      "metadata": {},
      "source": [
        "<p align=\"center\">\n",
        "<img width=90% src=\"\n",
        "https://raw.githubusercontent.com/gabrielcapela/rent-predict-sp/main/images/project.png\">\n",
        "</p>"
      ]
    }
  ],
  "metadata": {
    "colab": {
      "include_colab_link": true,
      "provenance": []
    },
    "kernelspec": {
      "display_name": "venv_rent_sp",
      "language": "python",
      "name": "python3"
    },
    "language_info": {
      "codemirror_mode": {
        "name": "ipython",
        "version": 3
      },
      "file_extension": ".py",
      "mimetype": "text/x-python",
      "name": "python",
      "nbconvert_exporter": "python",
      "pygments_lexer": "ipython3",
      "version": "3.10.16"
    }
  },
  "nbformat": 4,
  "nbformat_minor": 0
}
